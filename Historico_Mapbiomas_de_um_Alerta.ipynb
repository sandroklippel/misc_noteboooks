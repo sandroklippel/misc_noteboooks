{
  "nbformat": 4,
  "nbformat_minor": 0,
  "metadata": {
    "colab": {
      "name": "mapbiomas-api.ipynb",
      "provenance": [],
      "authorship_tag": "ABX9TyNY/W5dOzWN74tGgN9M+05t",
      "include_colab_link": true
    },
    "kernelspec": {
      "name": "python3",
      "display_name": "Python 3"
    },
    "language_info": {
      "name": "python"
    }
  },
  "cells": [
    {
      "cell_type": "markdown",
      "metadata": {
        "id": "view-in-github",
        "colab_type": "text"
      },
      "source": [
        "<a href=\"https://colab.research.google.com/github/sandroklippel/misc_noteboooks/blob/main/Historico_Mapbiomas_de_um_Alerta.ipynb\" target=\"_parent\"><img src=\"https://colab.research.google.com/assets/colab-badge.svg\" alt=\"Open In Colab\"/></a>"
      ]
    },
    {
      "cell_type": "markdown",
      "source": [
        "### Histórico de Uso e Cobertura do Solo de um alerta Mapbiomas"
      ],
      "metadata": {
        "id": "zxN4fxu7KYms"
      }
    },
    {
      "cell_type": "markdown",
      "source": [
        "Instruções:\n",
        "\n",
        "1.   O polígono do alerta será obtido diretamente do servidor Mapbiomas via API portanto será necessário usar as credencias de acesso. Se você não tem uma conta, cadastre-se no site https://plataforma.alerta.mapbiomas.org/sign-up.\n",
        "2. Preencha o formulário abaixo com essas credenciais, bem como o número do alerta. \n",
        "4.   Selecione no menu \"Ambiente de execução\" -> \"Executar tudo\" ou pressione Ctrl+F9.\n",
        "5. Pode ser necessário fazer a autenticação do Earth Engine. Siga as instruções, copie e cole o código no local indicado e tecle [ENTER].\n",
        "6. O gráfico será gerado na última célula. Há opção para salvá-lo em .PNG.\n",
        "\n"
      ],
      "metadata": {
        "id": "d4YM1jYBLKyk"
      }
    },
    {
      "cell_type": "code",
      "source": [
        "#@title Dados de entrada { display-mode: \"form\" }\n",
        "email = \"someone@somewhere\" #@param {type:\"string\"}\n",
        "senha = \"password1234\" #@param {type:\"string\"}\n",
        "alerta =  12345#@param {type:\"integer\"}\n"
      ],
      "metadata": {
        "id": "nXNYcEHDJN15"
      },
      "execution_count": 58,
      "outputs": []
    },
    {
      "cell_type": "code",
      "source": [
        "import ee\n",
        "\n",
        "try:\n",
        "  ee.Initialize()\n",
        "except ee.ee_exception.EEException:\n",
        "  ee.Authenticate()\n",
        "  ee.Initialize()"
      ],
      "metadata": {
        "id": "flz34jNLMoIM"
      },
      "execution_count": 59,
      "outputs": []
    },
    {
      "cell_type": "code",
      "execution_count": 60,
      "metadata": {
        "id": "ZQnSKMrO8DyJ"
      },
      "outputs": [],
      "source": [
        "import datetime\n",
        "import requests\n",
        "import pandas as pd\n",
        "import numpy as np\n",
        "import plotly.express as px\n",
        "\n",
        "from shapely import wkt\n",
        "from shapely.geometry import mapping\n",
        "\n",
        "\n",
        "def busca_alerta(email, senha, alerta):\n",
        "    \"\"\"\n",
        "    Busca o poligono do alerta no servidor Mapbiomas via API\n",
        "    \"\"\"\n",
        "\n",
        "    ENDPOINT = 'https://plataforma.alerta.mapbiomas.org/api/graphql'\n",
        "    TIMEOUT = 120\n",
        "\n",
        "    MUTATION = \\\n",
        "    \"\"\"mutation($email: String!, $password: String!)\n",
        "       { \n",
        "         signIn(email: $email, password: $password)\n",
        "        {\n",
        "         token\n",
        "        }\n",
        "       }\n",
        "    \"\"\"\n",
        "\n",
        "    QUERY = \\\n",
        "    \"\"\"\n",
        "    query\n",
        "    (\n",
        "      $alertCode: Int!\n",
        "      $carId: Int\n",
        "    )\n",
        "    {\n",
        "      alertReport(alertCode: $alertCode, carId: $carId) {\n",
        "        alertCode\n",
        "        alertGeomWkt\n",
        "        areaHa\n",
        "        }\n",
        "    }\n",
        "    \"\"\"\n",
        "\n",
        "    credentials = {'email': email, 'password': senha}\n",
        "\n",
        "    request = requests.post(ENDPOINT, json={'query': MUTATION, 'variables': credentials}, timeout=TIMEOUT)\n",
        "\n",
        "    if request.status_code == 200:\n",
        "        result = request.json()\n",
        "        if 'errors' in result:\n",
        "            msg = '\\n'.join([error['message'] for error in result['errors']])\n",
        "            raise Exception(\"Falha na obtenção do alerta. Mensagem retornada: {}.\".format(msg))\n",
        "        else:\n",
        "            token = result[\"data\"][\"signIn\"][\"token\"]\n",
        "    else:\n",
        "        raise Exception(\"Falha na obtenção do alerta. Código retornado: {}.\".format(request.status_code))\n",
        "\n",
        "    headers = {'Authorization': 'Bearer ' + token}\n",
        "\n",
        "    request = requests.post(ENDPOINT, json={'query': QUERY, 'variables':  {'alertCode': alerta}}, headers=headers, timeout=TIMEOUT)\n",
        "\n",
        "    if request.status_code == 200:\n",
        "        row = request.json()\n",
        "        if 'errors' in row:\n",
        "            msg = '\\n'.join([error['message'] for error in row['errors']])\n",
        "            raise Exception(\"Falha na obtenção do alerta. Mensagem retornada: {}.\".format(msg))\n",
        "    else:\n",
        "        raise Exception(\"Falha na obtenção do alerta. Código retornado: {}.\".format(request.status_code))\n",
        "\n",
        "    wkt_string = row['data']['alertReport']['alertGeomWkt']\n",
        "    shapely_geom = wkt.loads(wkt_string)\n",
        "    return shapely_geom\n",
        "\n",
        "def map_function(s):\n",
        "  def mbyr(y):\n",
        "      k = ee.String('classification_').cat(ee.String(y))\n",
        "      d = ee.Dictionary(s.get(k))\n",
        "      return d.set('year', y)\n",
        "  return mbyr\n",
        "\n",
        "classes = {3: \"Formação Florestal\",\n",
        "           4: \"Formação Savânica\",\n",
        "           5: \"Mangue\",\n",
        "           9: \"Floresta Plantada\",\n",
        "           11: \"Área Úmida não Florestal\",\n",
        "           12: \"Formação Campestre\",\n",
        "           13: \"Outra Formação Natural não Florestal\",\n",
        "           15: \"Pastagem\",\n",
        "           18: \"Agricultura\",\n",
        "           19: \"Cultura Anual e Perene\",\n",
        "           20: \"Cultura Semi-Perene\",\n",
        "           21: \"Mosaico de Agricultura e Pastagem\",\n",
        "           23: \"Praia e Duna\",\n",
        "           24: \"Infraestrutura Urbana\",\n",
        "           25: \"Outra Área não Vegetada\",\n",
        "           27: \"Não observado\",\n",
        "           29: \"Afloramento Rochoso\",\n",
        "           30: \"Mineração\",\n",
        "           31: \"Aquicultura\",\n",
        "           33: \"Rio, Lago e Oceano\",\n",
        "           32: \"Apicum\",\n",
        "           34: \"Glacias\",\n",
        "           36: \"Lavoura Perene\",\n",
        "           39: \"Soja\",\n",
        "           40: \"Arroz\",\n",
        "           41: \"Outras Lavouras Temporárias\",\n",
        "           46: \"Café\",\n",
        "           47: \"Citrus\",\n",
        "           48: \" Outras Lavouras Perene\",\n",
        "           49: \"Restinga Arborizad\"}\n",
        "\n",
        "cores = {3: \"#274e13\",\n",
        "         4: \"#32cd32\",\n",
        "         5: \"#687537\",\n",
        "         9: \"#935132\",\n",
        "        11: \"#45c2a5\",\n",
        "        12: \"#b8af4f\",\n",
        "        13: \"#bdb76b\",\n",
        "        15: \"#ffd966\",\n",
        "        18: \"#e974ed\",\n",
        "        19: \"#d5a6bd\",\n",
        "        20: \"#c27ba0\",\n",
        "        21: \"#ffefc3\",\n",
        "        23: \"#dd7e6b\",\n",
        "        24: \"#af2a2a\",\n",
        "        25: \"#ff99ff\",\n",
        "        27: \"#d5d5e5\",\n",
        "        29: \"#ff8c00\",\n",
        "        30: \"#8a2be2\",\n",
        "        31: \"#29eee4\",\n",
        "        33: \"#0000ff\",\n",
        "        32: \"#968c46\",\n",
        "        34: \"#968c46\",\n",
        "        36: \"#f3b4f1\",\n",
        "        39: \"#e075ad\",\n",
        "        40: \"#982c9e\",\n",
        "        41: \"#e787f8\",\n",
        "        46: \"#cca0d4\",\n",
        "        47: \"#d082de\",\n",
        "        48: \"#cd49e4\",\n",
        "        49: \"6b9932\"}\n",
        "\n",
        "color_map = {classes[k]: v for k, v in cores.items()}\n",
        "\n",
        "shapely_geom = busca_alerta(email, senha, alerta)\n",
        "geojson = mapping(shapely_geom)\n",
        "\n",
        "hoje = datetime.datetime.today().strftime('%d/%m/%Y')\n",
        "geom = ee.Geometry(geojson)\n",
        "area_ha = geom.area().getInfo() / 10000.0\n",
        "\n",
        "mapbiomas = ee.Image('projects/mapbiomas-workspace/public/collection6/mapbiomas_collection60_integration_v1')\n",
        "\n",
        "stats = (mapbiomas.reduceRegion(\n",
        "         reducer = ee.Reducer.frequencyHistogram(),\n",
        "        geometry = geom,\n",
        "        scale = 30,\n",
        "        crs = 'EPSG:4326'\n",
        "        ))\n",
        "\n",
        "years = ee.List([str(i) for i in range(1985,2021)])\n",
        "\n",
        "map_by_year = map_function(stats)\n",
        "\n",
        "lst = years.map(map_by_year)\n",
        "\n",
        "df = pd.DataFrame(lst.getInfo())\n",
        "df.set_index('year', inplace=True)\n",
        "df_perc = df.div(df.iloc[0,:].sum(), axis=1).mul(100).round(2)\n",
        "df_perc.columns = [classes[int(c)] for c in df_perc.columns.tolist()]"
      ]
    },
    {
      "cell_type": "code",
      "source": [
        "fig = px.bar(df_perc, barmode='stack', \n",
        "             color_discrete_map=color_map, \n",
        "             labels={\"value\": \"% da área do polígono\", \"variable\": \"\", \"year\": \"\"},\n",
        "             title=f\"Alerta {alerta} ({area_ha:.2f} ha) - Histórico de Uso e Cobertura do Solo\")\n",
        "\n",
        "fig.update_layout(template='simple_white')\n",
        "fig.update_xaxes(tickangle=-90)\n",
        "fig.add_annotation(\n",
        "    text = f\"Fonte dos dados: Projeto MapBiomas – Coleção 6 da Série Anual de Mapas de Uso e Cobertura da Terra do Brasil, acesso em {hoje}.\",\n",
        "    showarrow=False,\n",
        "    x = 0,\n",
        "    y = -0.2,\n",
        "    xref='paper',\n",
        "    yref='paper',\n",
        "    xanchor='left',\n",
        "    yanchor='bottom',\n",
        "    xshift=-1,\n",
        "    yshift=-5,\n",
        "    font=dict(size=10, color=\"grey\"),\n",
        "    align=\"left\")\n",
        "fig.show()"
      ],
      "metadata": {
        "id": "BV7brI8TECQa",
        "colab": {
          "base_uri": "https://localhost:8080/",
          "height": 542
        },
        "outputId": "2c3994c0-ea65-4706-a80a-2b4bdf7db746"
      },
      "execution_count": 61,
      "outputs": [
        {
          "output_type": "display_data",
          "data": {
            "text/html": [
              "<html>\n",
              "<head><meta charset=\"utf-8\" /></head>\n",
              "<body>\n",
              "    <div>            <script src=\"https://cdnjs.cloudflare.com/ajax/libs/mathjax/2.7.5/MathJax.js?config=TeX-AMS-MML_SVG\"></script><script type=\"text/javascript\">if (window.MathJax) {MathJax.Hub.Config({SVG: {font: \"STIX-Web\"}});}</script>                <script type=\"text/javascript\">window.PlotlyConfig = {MathJaxConfig: 'local'};</script>\n",
              "        <script src=\"https://cdn.plot.ly/plotly-2.8.3.min.js\"></script>                <div id=\"b8327939-180c-4f2e-b879-a7586334cd88\" class=\"plotly-graph-div\" style=\"height:525px; width:100%;\"></div>            <script type=\"text/javascript\">                                    window.PLOTLYENV=window.PLOTLYENV || {};                                    if (document.getElementById(\"b8327939-180c-4f2e-b879-a7586334cd88\")) {                    Plotly.newPlot(                        \"b8327939-180c-4f2e-b879-a7586334cd88\",                        [{\"alignmentgroup\":\"True\",\"hovertemplate\":\"=%{x}<br>% da \\u00e1rea do pol\\u00edgono=%{y}<extra></extra>\",\"legendgroup\":\"Forma\\u00e7\\u00e3o Florestal\",\"marker\":{\"color\":\"#274e13\",\"pattern\":{\"shape\":\"\"}},\"name\":\"Forma\\u00e7\\u00e3o Florestal\",\"offsetgroup\":\"Forma\\u00e7\\u00e3o Florestal\",\"orientation\":\"v\",\"showlegend\":true,\"textposition\":\"auto\",\"x\":[\"1985\",\"1986\",\"1987\",\"1988\",\"1989\",\"1990\",\"1991\",\"1992\",\"1993\",\"1994\",\"1995\",\"1996\",\"1997\",\"1998\",\"1999\",\"2000\",\"2001\",\"2002\",\"2003\",\"2004\",\"2005\",\"2006\",\"2007\",\"2008\",\"2009\",\"2010\",\"2011\",\"2012\",\"2013\",\"2014\",\"2015\",\"2016\",\"2017\",\"2018\",\"2019\",\"2020\"],\"xaxis\":\"x\",\"y\":[100.0,100.0,100.0,100.0,100.0,99.6,99.6,99.6,99.6,97.76,97.76,97.76,97.76,97.76,100.0,100.0,100.0,99.41,99.41,97.22,97.22,97.22,98.58,98.32,98.32,98.32,97.91,97.91,97.91,97.91,97.91,99.15,99.02,99.02,99.54,99.68],\"yaxis\":\"y\",\"type\":\"bar\"},{\"alignmentgroup\":\"True\",\"hovertemplate\":\"=%{x}<br>% da \\u00e1rea do pol\\u00edgono=%{y}<extra></extra>\",\"legendgroup\":\"Mosaico de Agricultura e Pastagem\",\"marker\":{\"color\":\"#ffefc3\",\"pattern\":{\"shape\":\"\"}},\"name\":\"Mosaico de Agricultura e Pastagem\",\"offsetgroup\":\"Mosaico de Agricultura e Pastagem\",\"orientation\":\"v\",\"showlegend\":true,\"textposition\":\"auto\",\"x\":[\"1985\",\"1986\",\"1987\",\"1988\",\"1989\",\"1990\",\"1991\",\"1992\",\"1993\",\"1994\",\"1995\",\"1996\",\"1997\",\"1998\",\"1999\",\"2000\",\"2001\",\"2002\",\"2003\",\"2004\",\"2005\",\"2006\",\"2007\",\"2008\",\"2009\",\"2010\",\"2011\",\"2012\",\"2013\",\"2014\",\"2015\",\"2016\",\"2017\",\"2018\",\"2019\",\"2020\"],\"xaxis\":\"x\",\"y\":[null,null,null,null,null,0.4,0.4,0.4,0.4,2.24,2.24,2.24,2.24,2.24,null,null,null,0.59,0.59,2.78,2.78,2.78,1.42,1.68,1.68,1.68,2.09,1.94,1.94,1.94,1.94,0.71,0.98,0.98,0.46,0.32],\"yaxis\":\"y\",\"type\":\"bar\"},{\"alignmentgroup\":\"True\",\"hovertemplate\":\"=%{x}<br>% da \\u00e1rea do pol\\u00edgono=%{y}<extra></extra>\",\"legendgroup\":\"Outras Lavouras Tempor\\u00e1rias\",\"marker\":{\"color\":\"#e787f8\",\"pattern\":{\"shape\":\"\"}},\"name\":\"Outras Lavouras Tempor\\u00e1rias\",\"offsetgroup\":\"Outras Lavouras Tempor\\u00e1rias\",\"orientation\":\"v\",\"showlegend\":true,\"textposition\":\"auto\",\"x\":[\"1985\",\"1986\",\"1987\",\"1988\",\"1989\",\"1990\",\"1991\",\"1992\",\"1993\",\"1994\",\"1995\",\"1996\",\"1997\",\"1998\",\"1999\",\"2000\",\"2001\",\"2002\",\"2003\",\"2004\",\"2005\",\"2006\",\"2007\",\"2008\",\"2009\",\"2010\",\"2011\",\"2012\",\"2013\",\"2014\",\"2015\",\"2016\",\"2017\",\"2018\",\"2019\",\"2020\"],\"xaxis\":\"x\",\"y\":[null,null,null,null,null,null,null,null,null,null,null,null,null,null,null,null,null,null,null,null,null,null,null,null,null,null,null,0.14,0.14,0.14,0.14,0.14,null,null,null,null],\"yaxis\":\"y\",\"type\":\"bar\"}],                        {\"template\":{\"data\":{\"barpolar\":[{\"marker\":{\"line\":{\"color\":\"white\",\"width\":0.5},\"pattern\":{\"fillmode\":\"overlay\",\"size\":10,\"solidity\":0.2}},\"type\":\"barpolar\"}],\"bar\":[{\"error_x\":{\"color\":\"rgb(36,36,36)\"},\"error_y\":{\"color\":\"rgb(36,36,36)\"},\"marker\":{\"line\":{\"color\":\"white\",\"width\":0.5},\"pattern\":{\"fillmode\":\"overlay\",\"size\":10,\"solidity\":0.2}},\"type\":\"bar\"}],\"carpet\":[{\"aaxis\":{\"endlinecolor\":\"rgb(36,36,36)\",\"gridcolor\":\"white\",\"linecolor\":\"white\",\"minorgridcolor\":\"white\",\"startlinecolor\":\"rgb(36,36,36)\"},\"baxis\":{\"endlinecolor\":\"rgb(36,36,36)\",\"gridcolor\":\"white\",\"linecolor\":\"white\",\"minorgridcolor\":\"white\",\"startlinecolor\":\"rgb(36,36,36)\"},\"type\":\"carpet\"}],\"choropleth\":[{\"colorbar\":{\"outlinewidth\":1,\"tickcolor\":\"rgb(36,36,36)\",\"ticks\":\"outside\"},\"type\":\"choropleth\"}],\"contourcarpet\":[{\"colorbar\":{\"outlinewidth\":1,\"tickcolor\":\"rgb(36,36,36)\",\"ticks\":\"outside\"},\"type\":\"contourcarpet\"}],\"contour\":[{\"colorbar\":{\"outlinewidth\":1,\"tickcolor\":\"rgb(36,36,36)\",\"ticks\":\"outside\"},\"colorscale\":[[0.0,\"#440154\"],[0.1111111111111111,\"#482878\"],[0.2222222222222222,\"#3e4989\"],[0.3333333333333333,\"#31688e\"],[0.4444444444444444,\"#26828e\"],[0.5555555555555556,\"#1f9e89\"],[0.6666666666666666,\"#35b779\"],[0.7777777777777778,\"#6ece58\"],[0.8888888888888888,\"#b5de2b\"],[1.0,\"#fde725\"]],\"type\":\"contour\"}],\"heatmapgl\":[{\"colorbar\":{\"outlinewidth\":1,\"tickcolor\":\"rgb(36,36,36)\",\"ticks\":\"outside\"},\"colorscale\":[[0.0,\"#440154\"],[0.1111111111111111,\"#482878\"],[0.2222222222222222,\"#3e4989\"],[0.3333333333333333,\"#31688e\"],[0.4444444444444444,\"#26828e\"],[0.5555555555555556,\"#1f9e89\"],[0.6666666666666666,\"#35b779\"],[0.7777777777777778,\"#6ece58\"],[0.8888888888888888,\"#b5de2b\"],[1.0,\"#fde725\"]],\"type\":\"heatmapgl\"}],\"heatmap\":[{\"colorbar\":{\"outlinewidth\":1,\"tickcolor\":\"rgb(36,36,36)\",\"ticks\":\"outside\"},\"colorscale\":[[0.0,\"#440154\"],[0.1111111111111111,\"#482878\"],[0.2222222222222222,\"#3e4989\"],[0.3333333333333333,\"#31688e\"],[0.4444444444444444,\"#26828e\"],[0.5555555555555556,\"#1f9e89\"],[0.6666666666666666,\"#35b779\"],[0.7777777777777778,\"#6ece58\"],[0.8888888888888888,\"#b5de2b\"],[1.0,\"#fde725\"]],\"type\":\"heatmap\"}],\"histogram2dcontour\":[{\"colorbar\":{\"outlinewidth\":1,\"tickcolor\":\"rgb(36,36,36)\",\"ticks\":\"outside\"},\"colorscale\":[[0.0,\"#440154\"],[0.1111111111111111,\"#482878\"],[0.2222222222222222,\"#3e4989\"],[0.3333333333333333,\"#31688e\"],[0.4444444444444444,\"#26828e\"],[0.5555555555555556,\"#1f9e89\"],[0.6666666666666666,\"#35b779\"],[0.7777777777777778,\"#6ece58\"],[0.8888888888888888,\"#b5de2b\"],[1.0,\"#fde725\"]],\"type\":\"histogram2dcontour\"}],\"histogram2d\":[{\"colorbar\":{\"outlinewidth\":1,\"tickcolor\":\"rgb(36,36,36)\",\"ticks\":\"outside\"},\"colorscale\":[[0.0,\"#440154\"],[0.1111111111111111,\"#482878\"],[0.2222222222222222,\"#3e4989\"],[0.3333333333333333,\"#31688e\"],[0.4444444444444444,\"#26828e\"],[0.5555555555555556,\"#1f9e89\"],[0.6666666666666666,\"#35b779\"],[0.7777777777777778,\"#6ece58\"],[0.8888888888888888,\"#b5de2b\"],[1.0,\"#fde725\"]],\"type\":\"histogram2d\"}],\"histogram\":[{\"marker\":{\"line\":{\"color\":\"white\",\"width\":0.6}},\"type\":\"histogram\"}],\"mesh3d\":[{\"colorbar\":{\"outlinewidth\":1,\"tickcolor\":\"rgb(36,36,36)\",\"ticks\":\"outside\"},\"type\":\"mesh3d\"}],\"parcoords\":[{\"line\":{\"colorbar\":{\"outlinewidth\":1,\"tickcolor\":\"rgb(36,36,36)\",\"ticks\":\"outside\"}},\"type\":\"parcoords\"}],\"pie\":[{\"automargin\":true,\"type\":\"pie\"}],\"scatter3d\":[{\"line\":{\"colorbar\":{\"outlinewidth\":1,\"tickcolor\":\"rgb(36,36,36)\",\"ticks\":\"outside\"}},\"marker\":{\"colorbar\":{\"outlinewidth\":1,\"tickcolor\":\"rgb(36,36,36)\",\"ticks\":\"outside\"}},\"type\":\"scatter3d\"}],\"scattercarpet\":[{\"marker\":{\"colorbar\":{\"outlinewidth\":1,\"tickcolor\":\"rgb(36,36,36)\",\"ticks\":\"outside\"}},\"type\":\"scattercarpet\"}],\"scattergeo\":[{\"marker\":{\"colorbar\":{\"outlinewidth\":1,\"tickcolor\":\"rgb(36,36,36)\",\"ticks\":\"outside\"}},\"type\":\"scattergeo\"}],\"scattergl\":[{\"marker\":{\"colorbar\":{\"outlinewidth\":1,\"tickcolor\":\"rgb(36,36,36)\",\"ticks\":\"outside\"}},\"type\":\"scattergl\"}],\"scattermapbox\":[{\"marker\":{\"colorbar\":{\"outlinewidth\":1,\"tickcolor\":\"rgb(36,36,36)\",\"ticks\":\"outside\"}},\"type\":\"scattermapbox\"}],\"scatterpolargl\":[{\"marker\":{\"colorbar\":{\"outlinewidth\":1,\"tickcolor\":\"rgb(36,36,36)\",\"ticks\":\"outside\"}},\"type\":\"scatterpolargl\"}],\"scatterpolar\":[{\"marker\":{\"colorbar\":{\"outlinewidth\":1,\"tickcolor\":\"rgb(36,36,36)\",\"ticks\":\"outside\"}},\"type\":\"scatterpolar\"}],\"scatter\":[{\"marker\":{\"colorbar\":{\"outlinewidth\":1,\"tickcolor\":\"rgb(36,36,36)\",\"ticks\":\"outside\"}},\"type\":\"scatter\"}],\"scatterternary\":[{\"marker\":{\"colorbar\":{\"outlinewidth\":1,\"tickcolor\":\"rgb(36,36,36)\",\"ticks\":\"outside\"}},\"type\":\"scatterternary\"}],\"surface\":[{\"colorbar\":{\"outlinewidth\":1,\"tickcolor\":\"rgb(36,36,36)\",\"ticks\":\"outside\"},\"colorscale\":[[0.0,\"#440154\"],[0.1111111111111111,\"#482878\"],[0.2222222222222222,\"#3e4989\"],[0.3333333333333333,\"#31688e\"],[0.4444444444444444,\"#26828e\"],[0.5555555555555556,\"#1f9e89\"],[0.6666666666666666,\"#35b779\"],[0.7777777777777778,\"#6ece58\"],[0.8888888888888888,\"#b5de2b\"],[1.0,\"#fde725\"]],\"type\":\"surface\"}],\"table\":[{\"cells\":{\"fill\":{\"color\":\"rgb(237,237,237)\"},\"line\":{\"color\":\"white\"}},\"header\":{\"fill\":{\"color\":\"rgb(217,217,217)\"},\"line\":{\"color\":\"white\"}},\"type\":\"table\"}]},\"layout\":{\"annotationdefaults\":{\"arrowhead\":0,\"arrowwidth\":1},\"autotypenumbers\":\"strict\",\"coloraxis\":{\"colorbar\":{\"outlinewidth\":1,\"tickcolor\":\"rgb(36,36,36)\",\"ticks\":\"outside\"}},\"colorscale\":{\"diverging\":[[0.0,\"rgb(103,0,31)\"],[0.1,\"rgb(178,24,43)\"],[0.2,\"rgb(214,96,77)\"],[0.3,\"rgb(244,165,130)\"],[0.4,\"rgb(253,219,199)\"],[0.5,\"rgb(247,247,247)\"],[0.6,\"rgb(209,229,240)\"],[0.7,\"rgb(146,197,222)\"],[0.8,\"rgb(67,147,195)\"],[0.9,\"rgb(33,102,172)\"],[1.0,\"rgb(5,48,97)\"]],\"sequential\":[[0.0,\"#440154\"],[0.1111111111111111,\"#482878\"],[0.2222222222222222,\"#3e4989\"],[0.3333333333333333,\"#31688e\"],[0.4444444444444444,\"#26828e\"],[0.5555555555555556,\"#1f9e89\"],[0.6666666666666666,\"#35b779\"],[0.7777777777777778,\"#6ece58\"],[0.8888888888888888,\"#b5de2b\"],[1.0,\"#fde725\"]],\"sequentialminus\":[[0.0,\"#440154\"],[0.1111111111111111,\"#482878\"],[0.2222222222222222,\"#3e4989\"],[0.3333333333333333,\"#31688e\"],[0.4444444444444444,\"#26828e\"],[0.5555555555555556,\"#1f9e89\"],[0.6666666666666666,\"#35b779\"],[0.7777777777777778,\"#6ece58\"],[0.8888888888888888,\"#b5de2b\"],[1.0,\"#fde725\"]]},\"colorway\":[\"#1F77B4\",\"#FF7F0E\",\"#2CA02C\",\"#D62728\",\"#9467BD\",\"#8C564B\",\"#E377C2\",\"#7F7F7F\",\"#BCBD22\",\"#17BECF\"],\"font\":{\"color\":\"rgb(36,36,36)\"},\"geo\":{\"bgcolor\":\"white\",\"lakecolor\":\"white\",\"landcolor\":\"white\",\"showlakes\":true,\"showland\":true,\"subunitcolor\":\"white\"},\"hoverlabel\":{\"align\":\"left\"},\"hovermode\":\"closest\",\"mapbox\":{\"style\":\"light\"},\"paper_bgcolor\":\"white\",\"plot_bgcolor\":\"white\",\"polar\":{\"angularaxis\":{\"gridcolor\":\"rgb(232,232,232)\",\"linecolor\":\"rgb(36,36,36)\",\"showgrid\":false,\"showline\":true,\"ticks\":\"outside\"},\"bgcolor\":\"white\",\"radialaxis\":{\"gridcolor\":\"rgb(232,232,232)\",\"linecolor\":\"rgb(36,36,36)\",\"showgrid\":false,\"showline\":true,\"ticks\":\"outside\"}},\"scene\":{\"xaxis\":{\"backgroundcolor\":\"white\",\"gridcolor\":\"rgb(232,232,232)\",\"gridwidth\":2,\"linecolor\":\"rgb(36,36,36)\",\"showbackground\":true,\"showgrid\":false,\"showline\":true,\"ticks\":\"outside\",\"zeroline\":false,\"zerolinecolor\":\"rgb(36,36,36)\"},\"yaxis\":{\"backgroundcolor\":\"white\",\"gridcolor\":\"rgb(232,232,232)\",\"gridwidth\":2,\"linecolor\":\"rgb(36,36,36)\",\"showbackground\":true,\"showgrid\":false,\"showline\":true,\"ticks\":\"outside\",\"zeroline\":false,\"zerolinecolor\":\"rgb(36,36,36)\"},\"zaxis\":{\"backgroundcolor\":\"white\",\"gridcolor\":\"rgb(232,232,232)\",\"gridwidth\":2,\"linecolor\":\"rgb(36,36,36)\",\"showbackground\":true,\"showgrid\":false,\"showline\":true,\"ticks\":\"outside\",\"zeroline\":false,\"zerolinecolor\":\"rgb(36,36,36)\"}},\"shapedefaults\":{\"fillcolor\":\"black\",\"line\":{\"width\":0},\"opacity\":0.3},\"ternary\":{\"aaxis\":{\"gridcolor\":\"rgb(232,232,232)\",\"linecolor\":\"rgb(36,36,36)\",\"showgrid\":false,\"showline\":true,\"ticks\":\"outside\"},\"baxis\":{\"gridcolor\":\"rgb(232,232,232)\",\"linecolor\":\"rgb(36,36,36)\",\"showgrid\":false,\"showline\":true,\"ticks\":\"outside\"},\"bgcolor\":\"white\",\"caxis\":{\"gridcolor\":\"rgb(232,232,232)\",\"linecolor\":\"rgb(36,36,36)\",\"showgrid\":false,\"showline\":true,\"ticks\":\"outside\"}},\"title\":{\"x\":0.05},\"xaxis\":{\"automargin\":true,\"gridcolor\":\"rgb(232,232,232)\",\"linecolor\":\"rgb(36,36,36)\",\"showgrid\":false,\"showline\":true,\"ticks\":\"outside\",\"title\":{\"standoff\":15},\"zeroline\":false,\"zerolinecolor\":\"rgb(36,36,36)\"},\"yaxis\":{\"automargin\":true,\"gridcolor\":\"rgb(232,232,232)\",\"linecolor\":\"rgb(36,36,36)\",\"showgrid\":false,\"showline\":true,\"ticks\":\"outside\",\"title\":{\"standoff\":15},\"zeroline\":false,\"zerolinecolor\":\"rgb(36,36,36)\"}}},\"xaxis\":{\"anchor\":\"y\",\"domain\":[0.0,1.0],\"title\":{\"text\":\"\"},\"tickangle\":-90},\"yaxis\":{\"anchor\":\"x\",\"domain\":[0.0,1.0],\"title\":{\"text\":\"% da \\u00e1rea do pol\\u00edgono\"}},\"legend\":{\"title\":{\"text\":\"\"},\"tracegroupgap\":0},\"title\":{\"text\":\"Alerta 543945 (5.89 ha) - Hist\\u00f3rico de Uso e Cobertura do Solo\"},\"barmode\":\"stack\",\"annotations\":[{\"align\":\"left\",\"font\":{\"color\":\"grey\",\"size\":10},\"showarrow\":false,\"text\":\"Fonte dos dados: Projeto MapBiomas \\u2013 Cole\\u00e7\\u00e3o 6 da S\\u00e9rie Anual de Mapas de Uso e Cobertura da Terra do Brasil, acesso em 22/07/2022.\",\"x\":0,\"xanchor\":\"left\",\"xref\":\"paper\",\"xshift\":-1,\"y\":-0.2,\"yanchor\":\"bottom\",\"yref\":\"paper\",\"yshift\":-5}]},                        {\"responsive\": true}                    ).then(function(){\n",
              "                            \n",
              "var gd = document.getElementById('b8327939-180c-4f2e-b879-a7586334cd88');\n",
              "var x = new MutationObserver(function (mutations, observer) {{\n",
              "        var display = window.getComputedStyle(gd).display;\n",
              "        if (!display || display === 'none') {{\n",
              "            console.log([gd, 'removed!']);\n",
              "            Plotly.purge(gd);\n",
              "            observer.disconnect();\n",
              "        }}\n",
              "}});\n",
              "\n",
              "// Listen for the removal of the full notebook cells\n",
              "var notebookContainer = gd.closest('#notebook-container');\n",
              "if (notebookContainer) {{\n",
              "    x.observe(notebookContainer, {childList: true});\n",
              "}}\n",
              "\n",
              "// Listen for the clearing of the current output cell\n",
              "var outputEl = gd.closest('.output');\n",
              "if (outputEl) {{\n",
              "    x.observe(outputEl, {childList: true});\n",
              "}}\n",
              "\n",
              "                        })                };                            </script>        </div>\n",
              "</body>\n",
              "</html>"
            ]
          },
          "metadata": {}
        }
      ]
    },
    {
      "cell_type": "markdown",
      "source": [
        "### Polígono para simples conferência:"
      ],
      "metadata": {
        "id": "7HQQlDq5DPQP"
      }
    },
    {
      "cell_type": "code",
      "source": [
        "shapely_geom"
      ],
      "metadata": {
        "colab": {
          "base_uri": "https://localhost:8080/",
          "height": 121
        },
        "id": "p0Y53vPRDj23",
        "outputId": "c47b34d4-275c-4ea0-c5d5-df6638ba6e3e"
      },
      "execution_count": 62,
      "outputs": [
        {
          "output_type": "execute_result",
          "data": {
            "text/plain": [
              "<shapely.geometry.multipolygon.MultiPolygon at 0x7f39cb102b50>"
            ],
            "image/svg+xml": "<svg xmlns=\"http://www.w3.org/2000/svg\" xmlns:xlink=\"http://www.w3.org/1999/xlink\" width=\"100.0\" height=\"100.0\" viewBox=\"-50.19923106167909 -24.643373954112292 0.0055397306940889735 0.0031142794269811702\" preserveAspectRatio=\"xMinYMin meet\"><g transform=\"matrix(1,0,0,-1,0,-49.2836336287976)\"><g><path fill-rule=\"evenodd\" fill=\"#66cc99\" stroke=\"#555555\" stroke-width=\"0.00011079461388177947\" opacity=\"0.6\" d=\"M -50.1977772282233,-24.6419291038093 L -50.1977143461534,-24.6418123228224 L -50.1974268852625,-24.6417404575996 L -50.1975706157079,-24.6416326597655 L -50.1974807841795,-24.6414979124729 L -50.1976604472364,-24.6414979124729 L -50.1979568912801,-24.6412553673462 L -50.1981096048784,-24.6412553673462 L -50.1981096048784,-24.6413362157218 L -50.1982263858653,-24.6412823168047 L -50.1982263858653,-24.6413631651803 L -50.1983701163108,-24.6412553673462 L -50.1984329983807,-24.6414979124729 L -50.1985767288262,-24.6414709630144 L -50.1985497793676,-24.64155181139 L -50.1984329983807,-24.6415248619315 L -50.1984599478392,-24.6415787608485 L -50.1986036782847,-24.64155181139 L -50.198756391883,-24.6413631651803 L -50.1988192739529,-24.6414440135559 L -50.1990258864682,-24.6414170640974 L -50.1987833413415,-24.6413362157218 L -50.1988192739529,-24.6411475695121 L -50.1986126614375,-24.6409319738439 L -50.1984329983807,-24.6408780749269 L -50.1982533353239,-24.640985872761 L -50.1982533353239,-24.6408241760098 L -50.1981635037955,-24.6408331591627 L -50.1981994364068,-24.6409589233025 L -50.1978670597517,-24.6410128222195 L -50.198073672267,-24.6410936705951 L -50.19801977335,-24.6412014684292 L -50.1978670597517,-24.6411206200536 L -50.1977233293062,-24.6412284178877 L -50.1977502787648,-24.6411475695121 L -50.1976065483193,-24.6410846874422 L -50.1976604472364,-24.6412553673462 L -50.1975436662494,-24.6412194347349 L -50.197453834721,-24.6408960412326 L -50.1975706157079,-24.6408960412326 L -50.1976604472364,-24.6407343444814 L -50.1975436662494,-24.6407073950229 L -50.1974268852625,-24.6408960412326 L -50.1973370537341,-24.6408960412326 L -50.1972472222057,-24.6407343444814 L -50.1974897673324,-24.6406804455644 L -50.1976065483193,-24.6404648498962 L -50.1975436662494,-24.6405456982718 L -50.1974268852625,-24.6404648498962 L -50.197283154817,-24.6405726477303 L -50.1971304412187,-24.6405187488132 L -50.1971034917602,-24.6407612939399 L -50.1968609466335,-24.6407343444814 L -50.1968968792448,-24.6408421423155 L -50.1968070477164,-24.640869091774 L -50.1969238287034,-24.6409768896081 L -50.1969777276204,-24.6409229906911 L -50.1969238287034,-24.6410577379837 L -50.1967711151051,-24.6408960412326 L -50.1965645025897,-24.6409499401496 L -50.1965375531312,-24.640869091774 L -50.1961782270176,-24.6410307885252 L -50.196151277559,-24.6411924852763 L -50.1963309406159,-24.6412463841934 L -50.1961153449477,-24.6413541820275 L -50.1960344965721,-24.6413002831104 L -50.1958817829738,-24.6414889293201 L -50.195702119917,-24.6414889293201 L -50.1956392378471,-24.6416236766127 L -50.1957290693755,-24.6416506260712 L -50.1954955074016,-24.6417584239053 L -50.1954326253317,-24.641947070115 L -50.1952260128164,-24.642000969032 L -50.1952888948863,-24.6418841880451 L -50.1949026193141,-24.6418302891281 L -50.1948397372442,-24.6416955418354 L -50.195019400301,-24.6415338450843 L -50.1952619454278,-24.6415607945428 L -50.1953158443448,-24.6414260472502 L -50.1954056758732,-24.6415338450843 L -50.19558533893,-24.6415068956258 L -50.1956122883886,-24.6414260472502 L -50.1958817829738,-24.6413541820275 L -50.1958817829738,-24.6410757042894 L -50.1960883954891,-24.6411116369008 L -50.1960075471136,-24.6407792602456 L -50.1958548335153,-24.6408062097042 L -50.1959446650437,-24.6405367151189 L -50.1957650019869,-24.6405367151189 L -50.1958009345982,-24.640590614036 L -50.1954416084846,-24.6406714624115 L -50.195414659026,-24.6408062097042 L -50.1953248274976,-24.6408331591627 L -50.1952888948863,-24.6411296032064 L -50.1951451644408,-24.6411296032064 L -50.1952349959692,-24.641210451582 L -50.1947858383272,-24.6414529967087 L -50.1946061752703,-24.6414260472502 L -50.1944265122135,-24.6415877440013 L -50.194399562755,-24.6418302891281 L -50.1943097312266,-24.6418033396695 L -50.1943097312266,-24.6421536826303 L -50.1938965061959,-24.6422075815474 L -50.1939234556544,-24.6426657223423 L -50.1941300681698,-24.6425579245082 L -50.1940941355584,-24.6423692782985 L -50.1942737986152,-24.64234232884 L -50.194453461672,-24.6425309750497 L -50.194453461672,-24.642288429923 L -50.1947229562573,-24.642288429923 L -50.1947499057158,-24.6421536826303 L -50.1949295687726,-24.6424052109099 L -50.1950463497596,-24.6423513119928 L -50.1950463497596,-24.6421267331718 L -50.1954326253317,-24.6421087668661 L -50.1954056758732,-24.6422165647002 L -50.195756018834,-24.6423513119928 L -50.1958817829738,-24.6420548679491 L -50.1959626313494,-24.6421626657832 L -50.1959087324323,-24.6422704636173 L -50.1962051764761,-24.6422974130758 L -50.1963489069215,-24.6424052109099 L -50.1962860248516,-24.6424860592855 L -50.1964028058386,-24.642683688648 L -50.1964028058386,-24.6429262337747 L -50.1966094183539,-24.6429801326917 L -50.1966094183539,-24.6431418294429 L -50.1967621319522,-24.6431687789014 L -50.1969956939261,-24.6430609810673 L -50.1972921379699,-24.6431148799843 L -50.1975346830966,-24.6428453853991 L -50.1974718010267,-24.6427914864821 L -50.1976514640835,-24.6428184359406 L -50.1977682450704,-24.642683688648 L -50.1976514640835,-24.6425219918968 L -50.1978041776818,-24.6424950424383 L -50.1978311271403,-24.6426297897309 L -50.1980646891142,-24.6425579245082 L -50.1980377396557,-24.6424680929798 L -50.198190453254,-24.6423602951457 L -50.1981006217256,-24.6422524973116 L -50.1979838407386,-24.6422794467701 L -50.1980107901972,-24.6421446994775 L -50.1978580765989,-24.6422524973116 L -50.1978940092102,-24.6420638511019 L -50.1977772282233,-24.642171648936 L -50.1978041776818,-24.6420638511019 L -50.1977143461534,-24.6420099521849 L -50.1977772282233,-24.6419291038093 z M -50.1963578900744,-24.6412733336519 L -50.1966273846596,-24.6413002831104 L -50.1964746710613,-24.6414080809445 L -50.1969777276204,-24.6415967271542 L -50.196887896092,-24.642117750019 L -50.1967711151051,-24.6420279184906 L -50.1965555194369,-24.6420818174076 L -50.1965016205198,-24.6417314744468 L -50.196268058546,-24.6417314744468 L -50.196268058546,-24.6418392722809 L -50.1961782270176,-24.6418662217394 L -50.1960255134193,-24.6418392722809 L -50.1961153449477,-24.6417584239053 L -50.1960883954891,-24.6414889293201 L -50.196151277559,-24.6415697776957 L -50.196268058546,-24.6415428282371 L -50.1962051764761,-24.6414619798616 L -50.1963848395329,-24.641381131486 L -50.1963578900744,-24.6412733336519 z\" /></g></g></svg>"
          },
          "metadata": {},
          "execution_count": 62
        }
      ]
    }
  ]
}