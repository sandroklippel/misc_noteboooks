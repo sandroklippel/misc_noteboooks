{
  "cells": [
    {
      "cell_type": "markdown",
      "metadata": {
        "colab_type": "text",
        "id": "view-in-github"
      },
      "source": [
        "<a href=\"https://colab.research.google.com/github/sandroklippel/misc_noteboooks/blob/main/Historico_Mapbiomas_de_um_arquivo_GeoJSON.ipynb\" target=\"_parent\"><img src=\"https://colab.research.google.com/assets/colab-badge.svg\" alt=\"Open In Colab\"/></a>"
      ]
    },
    {
      "cell_type": "markdown",
      "metadata": {
        "id": "zxN4fxu7KYms"
      },
      "source": [
        "### Histórico de Uso e Cobertura do Solo segundo Mapbiomas para um determinado polígono (`.geojson`)"
      ]
    },
    {
      "cell_type": "markdown",
      "metadata": {
        "id": "d4YM1jYBLKyk"
      },
      "source": [
        "Instruções:\n",
        "\n",
        "1. Gere um arquivo `map.geojson` com a área desejada (polígono no SRC EPSG:4326). Pode ser criado no QGIS, ArcGIS ou no site https://geojson.io/.\n",
        "2. Carregue esse arquivo no seu Google Drive. Se já houver um arquivo anterior, sobrescrever.\n",
        "3. Selecione no menu \"Ambiente de execução\" -> \"Executar tudo\" ou pressione Ctrl+F9\n",
        "4. Na primeira execução será necessário autorizar a conexão com o Google Drive. Siga as instruções.\n",
        "5. Pode ser necessário fazer a autenticação do Earth Engine. Siga as instruções, copie e cole o código no local indicado e tecle [ENTER].\n",
        "6. O gráfico será gerado na última célula. Há opção para salvá-lo em .PNG.\n",
        "\n"
      ]
    },
    {
      "cell_type": "code",
      "execution_count": null,
      "metadata": {
        "colab": {
          "base_uri": "https://localhost:8080/"
        },
        "id": "_Xw94fPYPPHk",
        "outputId": "abc64bc5-89f5-4df4-b539-705b2ef8d2be"
      },
      "outputs": [],
      "source": [
        "import json\n",
        "from google.colab import drive\n",
        "\n",
        "drive.mount('/gdrive', force_remount=True)\n",
        "\n",
        "with open('/gdrive/MyDrive/map.geojson') as f:\n",
        "  feature = json.load(f)\n"
      ]
    },
    {
      "cell_type": "code",
      "execution_count": null,
      "metadata": {
        "id": "w-a_H25fNcka"
      },
      "outputs": [],
      "source": [
        "import ee\n",
        "\n",
        "try:\n",
        "  ee.Initialize()\n",
        "except ee.ee_exception.EEException:\n",
        "  ee.Authenticate()\n",
        "  ee.Initialize()"
      ]
    },
    {
      "cell_type": "code",
      "execution_count": null,
      "metadata": {
        "id": "ZQnSKMrO8DyJ"
      },
      "outputs": [],
      "source": [
        "import datetime\n",
        "import pandas as pd\n",
        "import numpy as np\n",
        "import plotly.express as px\n",
        "\n",
        "from shapely.geometry import shape\n",
        "\n",
        "def map_function(s):\n",
        "  def mbyr(y):\n",
        "      k = ee.String('classification_').cat(ee.String(y))\n",
        "      d = ee.Dictionary(s.get(k))\n",
        "      return d.set('year', y)\n",
        "  return mbyr\n",
        "\n",
        "classes = {3: \"Formação Florestal\",\n",
        "           4: \"Formação Savânica\",\n",
        "           5: \"Mangue\",\n",
        "           9: \"Floresta Plantada\",\n",
        "           11: \"Área Úmida não Florestal\",\n",
        "           12: \"Formação Campestre\",\n",
        "           13: \"Outra Formação Natural não Florestal\",\n",
        "           15: \"Pastagem\",\n",
        "           18: \"Agricultura\",\n",
        "           19: \"Cultura Anual e Perene\",\n",
        "           20: \"Cultura Semi-Perene\",\n",
        "           21: \"Mosaico de Agricultura e Pastagem\",\n",
        "           23: \"Praia e Duna\",\n",
        "           24: \"Infraestrutura Urbana\",\n",
        "           25: \"Outra Área não Vegetada\",\n",
        "           27: \"Não observado\",\n",
        "           29: \"Afloramento Rochoso\",\n",
        "           30: \"Mineração\",\n",
        "           31: \"Aquicultura\",\n",
        "           33: \"Rio, Lago e Oceano\",\n",
        "           32: \"Apicum\",\n",
        "           34: \"Glacias\",\n",
        "           36: \"Lavoura Perene\",\n",
        "           39: \"Soja\",\n",
        "           40: \"Arroz\",\n",
        "           41: \"Outras Lavouras Temporárias\",\n",
        "           46: \"Café\",\n",
        "           47: \"Citrus\",\n",
        "           48: \" Outras Lavouras Perene\",\n",
        "           49: \"Restinga Arborizad\"}\n",
        "\n",
        "cores = {3: \"#274e13\",\n",
        "         4: \"#32cd32\",\n",
        "         5: \"#687537\",\n",
        "         9: \"#935132\",\n",
        "        11: \"#45c2a5\",\n",
        "        12: \"#b8af4f\",\n",
        "        13: \"#bdb76b\",\n",
        "        15: \"#ffd966\",\n",
        "        18: \"#e974ed\",\n",
        "        19: \"#d5a6bd\",\n",
        "        20: \"#c27ba0\",\n",
        "        21: \"#ffefc3\",\n",
        "        23: \"#dd7e6b\",\n",
        "        24: \"#af2a2a\",\n",
        "        25: \"#ff99ff\",\n",
        "        27: \"#d5d5e5\",\n",
        "        29: \"#ff8c00\",\n",
        "        30: \"#8a2be2\",\n",
        "        31: \"#29eee4\",\n",
        "        33: \"#0000ff\",\n",
        "        32: \"#968c46\",\n",
        "        34: \"#968c46\",\n",
        "        36: \"#f3b4f1\",\n",
        "        39: \"#e075ad\",\n",
        "        40: \"#982c9e\",\n",
        "        41: \"#e787f8\",\n",
        "        46: \"#cca0d4\",\n",
        "        47: \"#d082de\",\n",
        "        48: \"#cd49e4\",\n",
        "        49: \"6b9932\"}\n",
        "\n",
        "color_map = {classes[k]: v for k, v in cores.items()}\n",
        "\n",
        "hoje = datetime.datetime.today().strftime('%d/%m/%Y')\n",
        "\n",
        "geom = ee.FeatureCollection(feature).geometry()\n",
        "area_ha = geom.area().getInfo() / 10000.0\n",
        "\n",
        "mapbiomas = ee.Image('projects/mapbiomas-workspace/public/collection6/mapbiomas_collection60_integration_v1')\n",
        "\n",
        "stats = (mapbiomas.reduceRegion(\n",
        "         reducer = ee.Reducer.frequencyHistogram(),\n",
        "        geometry = geom,\n",
        "        scale = 30,\n",
        "        crs = 'EPSG:4326'\n",
        "        ))\n",
        "\n",
        "years = ee.List([str(i) for i in range(1985,2021)])\n",
        "\n",
        "map_by_year = map_function(stats)\n",
        "\n",
        "lst = years.map(map_by_year)\n",
        "\n",
        "df = pd.DataFrame(lst.getInfo())\n",
        "df.set_index('year', inplace=True)\n",
        "df_perc = df.div(df.iloc[0,:].sum(), axis=1).mul(100).round(2)\n",
        "df_perc.columns = [classes[int(c)] for c in df_perc.columns.tolist()]"
      ]
    },
    {
      "cell_type": "code",
      "execution_count": null,
      "metadata": {
        "colab": {
          "base_uri": "https://localhost:8080/",
          "height": 542
        },
        "id": "BV7brI8TECQa",
        "outputId": "902218c8-cfcf-44d7-a233-56251e60bf27"
      },
      "outputs": [],
      "source": [
        "fig = px.bar(df_perc, barmode='stack', \n",
        "             color_discrete_map=color_map, \n",
        "             labels={\"value\": \"% da área do polígono\", \"variable\": \"\", \"year\": \"\"},\n",
        "             title=f\"Histórico de Uso e Cobertura do Solo ({area_ha:.2f} ha)\")\n",
        "\n",
        "fig.update_layout(template='simple_white')\n",
        "fig.update_xaxes(tickangle=-90)\n",
        "fig.add_annotation(\n",
        "    text = f\"Fonte dos dados: Projeto MapBiomas – Coleção 6 da Série Anual de Mapas de Uso e Cobertura da Terra do Brasil, acesso em {hoje}.\",\n",
        "    showarrow=False,\n",
        "    x = 0,\n",
        "    y = -0.2,\n",
        "    xref='paper',\n",
        "    yref='paper',\n",
        "    xanchor='left',\n",
        "    yanchor='bottom',\n",
        "    xshift=-1,\n",
        "    yshift=-5,\n",
        "    font=dict(size=10, color=\"grey\"),\n",
        "    align=\"left\")\n",
        "fig.show()"
      ]
    },
    {
      "cell_type": "markdown",
      "metadata": {},
      "source": [
        "### Polígono para simples conferência:"
      ]
    },
    {
      "cell_type": "code",
      "execution_count": null,
      "metadata": {},
      "outputs": [],
      "source": [
        "shape(geom.getInfo())"
      ]
    }
  ],
  "metadata": {
    "colab": {
      "include_colab_link": true,
      "name": "hist_mapbiomas_arquivo.ipynb",
      "provenance": []
    },
    "kernelspec": {
      "display_name": "Python 3.7.11 64-bit ('arcgispro-py3')",
      "language": "python",
      "name": "python3"
    },
    "language_info": {
      "codemirror_mode": {
        "name": "ipython",
        "version": 3
      },
      "file_extension": ".py",
      "mimetype": "text/x-python",
      "name": "python",
      "nbconvert_exporter": "python",
      "pygments_lexer": "ipython3",
      "version": "3.7.11"
    },
    "orig_nbformat": 4,
    "vscode": {
      "interpreter": {
        "hash": "ce21b655b4d6c9e397d5ad93d5666c623f49909f6d0cc2f72076dafcf1b3ecfb"
      }
    }
  },
  "nbformat": 4,
  "nbformat_minor": 0
}
