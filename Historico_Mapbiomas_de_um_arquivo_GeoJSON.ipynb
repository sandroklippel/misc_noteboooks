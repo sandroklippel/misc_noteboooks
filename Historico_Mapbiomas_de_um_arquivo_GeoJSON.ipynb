{
  "cells": [
    {
      "cell_type": "markdown",
      "metadata": {
        "colab_type": "text",
        "id": "view-in-github"
      },
      "source": [
        "<a href=\"https://colab.research.google.com/github/sandroklippel/misc_noteboooks/blob/main/Historico_Mapbiomas_de_um_arquivo_GeoJSON.ipynb\" target=\"_parent\"><img src=\"https://colab.research.google.com/assets/colab-badge.svg\" alt=\"Open In Colab\"/></a>"
      ]
    },
    {
      "cell_type": "markdown",
      "metadata": {
        "id": "zxN4fxu7KYms"
      },
      "source": [
        "### Histórico de Uso e Cobertura do Solo segundo Mapbiomas para um determinado polígono (`.geojson`)"
      ]
    },
    {
      "cell_type": "markdown",
      "metadata": {
        "id": "d4YM1jYBLKyk"
      },
      "source": [
        "Instruções:\n",
        "\n",
        "1. Gere um arquivo `map.geojson` com a área desejada (polígono no SRC EPSG:4326). Pode ser criado no QGIS, ArcGIS ou no site https://geojson.io/.\n",
        "2. Carregue esse arquivo no seu Google Drive. Se já houver um arquivo anterior, sobrescrever.\n",
        "3. Selecione no menu \"Ambiente de execução\" -> \"Executar tudo\" ou pressione Ctrl+F9\n",
        "4. Na primeira execução será necessário autorizar a conexão com o Google Drive. Siga as instruções.\n",
        "5. Pode ser necessário fazer a autenticação do Earth Engine. Siga as instruções, copie e cole o código no local indicado e tecle [ENTER].\n",
        "6. O gráfico será gerado na última célula. Há opção para salvá-lo em .PNG.\n",
        "\n"
      ]
    },
    {
      "cell_type": "code",
      "execution_count": null,
      "metadata": {
        "colab": {
          "base_uri": "https://localhost:8080/"
        },
        "id": "_Xw94fPYPPHk",
        "outputId": "abc64bc5-89f5-4df4-b539-705b2ef8d2be"
      },
      "outputs": [],
      "source": [
        "import json\n",
        "from google.colab import drive\n",
        "\n",
        "drive.mount('/gdrive', force_remount=True)\n",
        "\n",
        "with open('/gdrive/MyDrive/map.geojson') as f:\n",
        "  feature = json.load(f)\n"
      ]
    },
    {
      "cell_type": "code",
      "execution_count": null,
      "metadata": {
        "id": "w-a_H25fNcka"
      },
      "outputs": [],
      "source": [
        "import ee\n",
        "\n",
        "try:\n",
        "  ee.Initialize()\n",
        "except ee.ee_exception.EEException:\n",
        "  ee.Authenticate()\n",
        "  ee.Initialize()"
      ]
    },
    {
      "cell_type": "code",
      "execution_count": null,
      "metadata": {
        "id": "ZQnSKMrO8DyJ"
      },
      "outputs": [],
      "source": [
        "import datetime\n",
        "import pandas as pd\n",
        "import numpy as np\n",
        "import plotly.express as px\n",
        "\n",
        "def map_function(s):\n",
        "  def mbyr(y):\n",
        "      k = ee.String('classification_').cat(ee.String(y))\n",
        "      d = ee.Dictionary(s.get(k))\n",
        "      return d.set('year', y)\n",
        "  return mbyr\n",
        "\n",
        "classes = {3: \"Formação Florestal\",\n",
        "           4: \"Formação Savânica\",\n",
        "           5: \"Mangue\",\n",
        "           9: \"Floresta Plantada\",\n",
        "           11: \"Área Úmida não Florestal\",\n",
        "           12: \"Formação Campestre\",\n",
        "           13: \"Outra Formação Natural não Florestal\",\n",
        "           15: \"Pastagem\",\n",
        "           18: \"Agricultura\",\n",
        "           19: \"Cultura Anual e Perene\",\n",
        "           20: \"Cultura Semi-Perene\",\n",
        "           21: \"Mosaico de Agricultura e Pastagem\",\n",
        "           23: \"Praia e Duna\",\n",
        "           24: \"Infraestrutura Urbana\",\n",
        "           25: \"Outra Área não Vegetada\",\n",
        "           27: \"Não observado\",\n",
        "           29: \"Afloramento Rochoso\",\n",
        "           30: \"Mineração\",\n",
        "           31: \"Aquicultura\",\n",
        "           33: \"Rio, Lago e Oceano\",\n",
        "           32: \"Apicum\",\n",
        "           34: \"Glacias\",\n",
        "           36: \"Lavoura Perene\",\n",
        "           39: \"Soja\",\n",
        "           40: \"Arroz\",\n",
        "           41: \"Outras Lavouras Temporárias\",\n",
        "           46: \"Café\",\n",
        "           47: \"Citrus\",\n",
        "           48: \" Outras Lavouras Perene\",\n",
        "           49: \"Restinga Arborizad\"}\n",
        "\n",
        "cores = {3: \"#274e13\",\n",
        "         4: \"#32cd32\",\n",
        "         5: \"#687537\",\n",
        "         9: \"#935132\",\n",
        "        11: \"#45c2a5\",\n",
        "        12: \"#b8af4f\",\n",
        "        13: \"#bdb76b\",\n",
        "        15: \"#ffd966\",\n",
        "        18: \"#e974ed\",\n",
        "        19: \"#d5a6bd\",\n",
        "        20: \"#c27ba0\",\n",
        "        21: \"#ffefc3\",\n",
        "        23: \"#dd7e6b\",\n",
        "        24: \"#af2a2a\",\n",
        "        25: \"#ff99ff\",\n",
        "        27: \"#d5d5e5\",\n",
        "        29: \"#ff8c00\",\n",
        "        30: \"#8a2be2\",\n",
        "        31: \"#29eee4\",\n",
        "        33: \"#0000ff\",\n",
        "        32: \"#968c46\",\n",
        "        34: \"#968c46\",\n",
        "        36: \"#f3b4f1\",\n",
        "        39: \"#e075ad\",\n",
        "        40: \"#982c9e\",\n",
        "        41: \"#e787f8\",\n",
        "        46: \"#cca0d4\",\n",
        "        47: \"#d082de\",\n",
        "        48: \"#cd49e4\",\n",
        "        49: \"6b9932\"}\n",
        "\n",
        "color_map = {classes[k]: v for k, v in cores.items()}\n",
        "\n",
        "hoje = datetime.datetime.today().strftime('%d/%m/%Y')\n",
        "\n",
        "geom = ee.FeatureCollection(feature).geometry()\n",
        "area_ha = geom.area().getInfo() / 10000.0\n",
        "\n",
        "mapbiomas = ee.Image('projects/mapbiomas-workspace/public/collection6/mapbiomas_collection60_integration_v1')\n",
        "\n",
        "stats = (mapbiomas.reduceRegion(\n",
        "         reducer = ee.Reducer.frequencyHistogram(),\n",
        "        geometry = geom,\n",
        "        scale = 30,\n",
        "        crs = 'EPSG:4326'\n",
        "        ))\n",
        "\n",
        "years = ee.List([str(i) for i in range(1985,2021)])\n",
        "\n",
        "map_by_year = map_function(stats)\n",
        "\n",
        "lst = years.map(map_by_year)\n",
        "\n",
        "df = pd.DataFrame(lst.getInfo())\n",
        "df.set_index('year', inplace=True)\n",
        "df_perc = df.div(df.iloc[0,:].sum(), axis=1).mul(100).round(2)\n",
        "df_perc.columns = [classes[int(c)] for c in df_perc.columns.tolist()]"
      ]
    },
    {
      "cell_type": "code",
      "execution_count": null,
      "metadata": {
        "colab": {
          "base_uri": "https://localhost:8080/",
          "height": 542
        },
        "id": "BV7brI8TECQa",
        "outputId": "902218c8-cfcf-44d7-a233-56251e60bf27"
      },
      "outputs": [
        {
          "data": {
            "text/html": [
              "<html>\n",
              "<head><meta charset=\"utf-8\" /></head>\n",
              "<body>\n",
              "    <div>            <script src=\"https://cdnjs.cloudflare.com/ajax/libs/mathjax/2.7.5/MathJax.js?config=TeX-AMS-MML_SVG\"></script><script type=\"text/javascript\">if (window.MathJax) {MathJax.Hub.Config({SVG: {font: \"STIX-Web\"}});}</script>                <script type=\"text/javascript\">window.PlotlyConfig = {MathJaxConfig: 'local'};</script>\n",
              "        <script src=\"https://cdn.plot.ly/plotly-2.8.3.min.js\"></script>                <div id=\"df71874f-c080-47f3-be5f-08a5d4dd61f4\" class=\"plotly-graph-div\" style=\"height:525px; width:100%;\"></div>            <script type=\"text/javascript\">                                    window.PLOTLYENV=window.PLOTLYENV || {};                                    if (document.getElementById(\"df71874f-c080-47f3-be5f-08a5d4dd61f4\")) {                    Plotly.newPlot(                        \"df71874f-c080-47f3-be5f-08a5d4dd61f4\",                        [{\"alignmentgroup\":\"True\",\"hovertemplate\":\"=%{x}<br>% da \\u00e1rea do pol\\u00edgono=%{y}<extra></extra>\",\"legendgroup\":\"\\u00c1rea \\u00damida n\\u00e3o Florestal\",\"marker\":{\"color\":\"#45c2a5\",\"pattern\":{\"shape\":\"\"}},\"name\":\"\\u00c1rea \\u00damida n\\u00e3o Florestal\",\"offsetgroup\":\"\\u00c1rea \\u00damida n\\u00e3o Florestal\",\"orientation\":\"v\",\"showlegend\":true,\"textposition\":\"auto\",\"x\":[\"1985\",\"1986\",\"1987\",\"1988\",\"1989\",\"1990\",\"1991\",\"1992\",\"1993\",\"1994\",\"1995\",\"1996\",\"1997\",\"1998\",\"1999\",\"2000\",\"2001\",\"2002\",\"2003\",\"2004\",\"2005\",\"2006\",\"2007\",\"2008\",\"2009\",\"2010\",\"2011\",\"2012\",\"2013\",\"2014\",\"2015\",\"2016\",\"2017\",\"2018\",\"2019\",\"2020\"],\"xaxis\":\"x\",\"y\":[0.98,0.94,0.9,0.88,0.88,0.87,0.93,0.93,0.93,0.93,0.96,0.94,0.9,0.94,0.91,0.87,0.87,0.87,0.86,0.86,0.86,0.86,0.87,0.87,0.88,0.88,0.89,0.87,0.88,0.91,0.91,0.92,0.91,0.9,0.93,0.94],\"yaxis\":\"y\",\"type\":\"bar\"},{\"alignmentgroup\":\"True\",\"hovertemplate\":\"=%{x}<br>% da \\u00e1rea do pol\\u00edgono=%{y}<extra></extra>\",\"legendgroup\":\"Pastagem\",\"marker\":{\"color\":\"#ffd966\",\"pattern\":{\"shape\":\"\"}},\"name\":\"Pastagem\",\"offsetgroup\":\"Pastagem\",\"orientation\":\"v\",\"showlegend\":true,\"textposition\":\"auto\",\"x\":[\"1985\",\"1986\",\"1987\",\"1988\",\"1989\",\"1990\",\"1991\",\"1992\",\"1993\",\"1994\",\"1995\",\"1996\",\"1997\",\"1998\",\"1999\",\"2000\",\"2001\",\"2002\",\"2003\",\"2004\",\"2005\",\"2006\",\"2007\",\"2008\",\"2009\",\"2010\",\"2011\",\"2012\",\"2013\",\"2014\",\"2015\",\"2016\",\"2017\",\"2018\",\"2019\",\"2020\"],\"xaxis\":\"x\",\"y\":[0.56,0.57,0.54,0.34,0.39,0.39,0.3,0.3,0.26,0.25,0.27,0.24,0.19,0.18,0.2,0.21,0.14,0.1,0.1,0.06,0.06,0.09,0.08,0.45,0.61,0.59,0.44,0.27,0.18,0.1,0.07,0.04,0.06,0.07,0.11,0.16],\"yaxis\":\"y\",\"type\":\"bar\"},{\"alignmentgroup\":\"True\",\"hovertemplate\":\"=%{x}<br>% da \\u00e1rea do pol\\u00edgono=%{y}<extra></extra>\",\"legendgroup\":\"Mosaico de Agricultura e Pastagem\",\"marker\":{\"color\":\"#ffefc3\",\"pattern\":{\"shape\":\"\"}},\"name\":\"Mosaico de Agricultura e Pastagem\",\"offsetgroup\":\"Mosaico de Agricultura e Pastagem\",\"orientation\":\"v\",\"showlegend\":true,\"textposition\":\"auto\",\"x\":[\"1985\",\"1986\",\"1987\",\"1988\",\"1989\",\"1990\",\"1991\",\"1992\",\"1993\",\"1994\",\"1995\",\"1996\",\"1997\",\"1998\",\"1999\",\"2000\",\"2001\",\"2002\",\"2003\",\"2004\",\"2005\",\"2006\",\"2007\",\"2008\",\"2009\",\"2010\",\"2011\",\"2012\",\"2013\",\"2014\",\"2015\",\"2016\",\"2017\",\"2018\",\"2019\",\"2020\"],\"xaxis\":\"x\",\"y\":[6.18,6.58,6.11,5.67,7.09,7.21,6.02,5.67,5.22,3.87,4.49,4.72,4.78,2.98,2.09,1.11,1.28,1.27,1.32,1.21,1.67,3.13,3.6,3.92,3.53,2.42,1.74,1.77,1.81,1.63,1.5,1.35,1.11,1.09,1.07,1.2],\"yaxis\":\"y\",\"type\":\"bar\"},{\"alignmentgroup\":\"True\",\"hovertemplate\":\"=%{x}<br>% da \\u00e1rea do pol\\u00edgono=%{y}<extra></extra>\",\"legendgroup\":\"Outra \\u00c1rea n\\u00e3o Vegetada\",\"marker\":{\"color\":\"#ff99ff\",\"pattern\":{\"shape\":\"\"}},\"name\":\"Outra \\u00c1rea n\\u00e3o Vegetada\",\"offsetgroup\":\"Outra \\u00c1rea n\\u00e3o Vegetada\",\"orientation\":\"v\",\"showlegend\":true,\"textposition\":\"auto\",\"x\":[\"1985\",\"1986\",\"1987\",\"1988\",\"1989\",\"1990\",\"1991\",\"1992\",\"1993\",\"1994\",\"1995\",\"1996\",\"1997\",\"1998\",\"1999\",\"2000\",\"2001\",\"2002\",\"2003\",\"2004\",\"2005\",\"2006\",\"2007\",\"2008\",\"2009\",\"2010\",\"2011\",\"2012\",\"2013\",\"2014\",\"2015\",\"2016\",\"2017\",\"2018\",\"2019\",\"2020\"],\"xaxis\":\"x\",\"y\":[0.03,0.03,0.03,0.02,0.02,0.02,0.02,0.02,0.02,0.02,null,null,null,null,null,null,null,null,null,null,null,null,null,null,null,null,null,null,null,null,null,null,null,null,null,null],\"yaxis\":\"y\",\"type\":\"bar\"},{\"alignmentgroup\":\"True\",\"hovertemplate\":\"=%{x}<br>% da \\u00e1rea do pol\\u00edgono=%{y}<extra></extra>\",\"legendgroup\":\"Forma\\u00e7\\u00e3o Florestal\",\"marker\":{\"color\":\"#274e13\",\"pattern\":{\"shape\":\"\"}},\"name\":\"Forma\\u00e7\\u00e3o Florestal\",\"offsetgroup\":\"Forma\\u00e7\\u00e3o Florestal\",\"orientation\":\"v\",\"showlegend\":true,\"textposition\":\"auto\",\"x\":[\"1985\",\"1986\",\"1987\",\"1988\",\"1989\",\"1990\",\"1991\",\"1992\",\"1993\",\"1994\",\"1995\",\"1996\",\"1997\",\"1998\",\"1999\",\"2000\",\"2001\",\"2002\",\"2003\",\"2004\",\"2005\",\"2006\",\"2007\",\"2008\",\"2009\",\"2010\",\"2011\",\"2012\",\"2013\",\"2014\",\"2015\",\"2016\",\"2017\",\"2018\",\"2019\",\"2020\"],\"xaxis\":\"x\",\"y\":[90.69,88.93,89.35,90.73,89.23,89.39,88.27,87.24,87.34,86.47,85.91,83.81,82.63,82.55,82.22,80.35,80.4,80.17,80.06,79.9,79.59,78.18,78.5,78.84,79.18,80.4,80.48,80.15,79.84,79.69,79.3,79.51,79.78,78.91,77.4,76.97],\"yaxis\":\"y\",\"type\":\"bar\"},{\"alignmentgroup\":\"True\",\"hovertemplate\":\"=%{x}<br>% da \\u00e1rea do pol\\u00edgono=%{y}<extra></extra>\",\"legendgroup\":\"Rio, Lago e Oceano\",\"marker\":{\"color\":\"#0000ff\",\"pattern\":{\"shape\":\"\"}},\"name\":\"Rio, Lago e Oceano\",\"offsetgroup\":\"Rio, Lago e Oceano\",\"orientation\":\"v\",\"showlegend\":true,\"textposition\":\"auto\",\"x\":[\"1985\",\"1986\",\"1987\",\"1988\",\"1989\",\"1990\",\"1991\",\"1992\",\"1993\",\"1994\",\"1995\",\"1996\",\"1997\",\"1998\",\"1999\",\"2000\",\"2001\",\"2002\",\"2003\",\"2004\",\"2005\",\"2006\",\"2007\",\"2008\",\"2009\",\"2010\",\"2011\",\"2012\",\"2013\",\"2014\",\"2015\",\"2016\",\"2017\",\"2018\",\"2019\",\"2020\"],\"xaxis\":\"x\",\"y\":[1.35,2.6,2.68,1.68,1.53,1.2,2.53,2.63,2.59,1.72,1.06,2.46,2.23,1.31,1.44,0.97,1.02,0.87,0.7,0.77,0.87,0.85,0.9,0.89,0.96,1.02,0.96,0.78,0.59,0.54,0.69,0.58,0.54,0.66,0.69,0.72],\"yaxis\":\"y\",\"type\":\"bar\"},{\"alignmentgroup\":\"True\",\"hovertemplate\":\"=%{x}<br>% da \\u00e1rea do pol\\u00edgono=%{y}<extra></extra>\",\"legendgroup\":\"Outras Lavouras Tempor\\u00e1rias\",\"marker\":{\"color\":\"#e787f8\",\"pattern\":{\"shape\":\"\"}},\"name\":\"Outras Lavouras Tempor\\u00e1rias\",\"offsetgroup\":\"Outras Lavouras Tempor\\u00e1rias\",\"orientation\":\"v\",\"showlegend\":true,\"textposition\":\"auto\",\"x\":[\"1985\",\"1986\",\"1987\",\"1988\",\"1989\",\"1990\",\"1991\",\"1992\",\"1993\",\"1994\",\"1995\",\"1996\",\"1997\",\"1998\",\"1999\",\"2000\",\"2001\",\"2002\",\"2003\",\"2004\",\"2005\",\"2006\",\"2007\",\"2008\",\"2009\",\"2010\",\"2011\",\"2012\",\"2013\",\"2014\",\"2015\",\"2016\",\"2017\",\"2018\",\"2019\",\"2020\"],\"xaxis\":\"x\",\"y\":[0.18,0.18,0.01,null,0.02,0.03,0.04,0.05,0.11,0.2,0.27,0.34,0.27,0.1,0.02,null,null,null,null,null,null,null,null,0.04,0.04,0.04,0.0,0.0,0.0,0.0,0.0,0.0,null,null,null,null],\"yaxis\":\"y\",\"type\":\"bar\"},{\"alignmentgroup\":\"True\",\"hovertemplate\":\"=%{x}<br>% da \\u00e1rea do pol\\u00edgono=%{y}<extra></extra>\",\"legendgroup\":\"Floresta Plantada\",\"marker\":{\"color\":\"#935132\",\"pattern\":{\"shape\":\"\"}},\"name\":\"Floresta Plantada\",\"offsetgroup\":\"Floresta Plantada\",\"orientation\":\"v\",\"showlegend\":true,\"textposition\":\"auto\",\"x\":[\"1985\",\"1986\",\"1987\",\"1988\",\"1989\",\"1990\",\"1991\",\"1992\",\"1993\",\"1994\",\"1995\",\"1996\",\"1997\",\"1998\",\"1999\",\"2000\",\"2001\",\"2002\",\"2003\",\"2004\",\"2005\",\"2006\",\"2007\",\"2008\",\"2009\",\"2010\",\"2011\",\"2012\",\"2013\",\"2014\",\"2015\",\"2016\",\"2017\",\"2018\",\"2019\",\"2020\"],\"xaxis\":\"x\",\"y\":[0.04,0.18,0.38,0.68,0.84,0.89,1.89,3.17,3.53,6.54,7.05,7.5,8.99,11.94,13.12,16.48,16.29,16.71,16.96,17.2,16.96,16.89,16.05,14.99,14.8,14.66,15.49,16.16,16.71,17.14,17.53,17.61,17.6,18.38,19.8,20.01],\"yaxis\":\"y\",\"type\":\"bar\"},{\"alignmentgroup\":\"True\",\"hovertemplate\":\"=%{x}<br>% da \\u00e1rea do pol\\u00edgono=%{y}<extra></extra>\",\"legendgroup\":\"Soja\",\"marker\":{\"color\":\"#e075ad\",\"pattern\":{\"shape\":\"\"}},\"name\":\"Soja\",\"offsetgroup\":\"Soja\",\"orientation\":\"v\",\"showlegend\":true,\"textposition\":\"auto\",\"x\":[\"1985\",\"1986\",\"1987\",\"1988\",\"1989\",\"1990\",\"1991\",\"1992\",\"1993\",\"1994\",\"1995\",\"1996\",\"1997\",\"1998\",\"1999\",\"2000\",\"2001\",\"2002\",\"2003\",\"2004\",\"2005\",\"2006\",\"2007\",\"2008\",\"2009\",\"2010\",\"2011\",\"2012\",\"2013\",\"2014\",\"2015\",\"2016\",\"2017\",\"2018\",\"2019\",\"2020\"],\"xaxis\":\"x\",\"y\":[null,null,null,null,null,null,null,null,null,null,null,null,null,null,null,null,null,null,null,null,null,null,null,null,null,null,null,null,null,null,null,null,0.0,0.0,0.0,0.0],\"yaxis\":\"y\",\"type\":\"bar\"}],                        {\"template\":{\"data\":{\"barpolar\":[{\"marker\":{\"line\":{\"color\":\"white\",\"width\":0.5},\"pattern\":{\"fillmode\":\"overlay\",\"size\":10,\"solidity\":0.2}},\"type\":\"barpolar\"}],\"bar\":[{\"error_x\":{\"color\":\"rgb(36,36,36)\"},\"error_y\":{\"color\":\"rgb(36,36,36)\"},\"marker\":{\"line\":{\"color\":\"white\",\"width\":0.5},\"pattern\":{\"fillmode\":\"overlay\",\"size\":10,\"solidity\":0.2}},\"type\":\"bar\"}],\"carpet\":[{\"aaxis\":{\"endlinecolor\":\"rgb(36,36,36)\",\"gridcolor\":\"white\",\"linecolor\":\"white\",\"minorgridcolor\":\"white\",\"startlinecolor\":\"rgb(36,36,36)\"},\"baxis\":{\"endlinecolor\":\"rgb(36,36,36)\",\"gridcolor\":\"white\",\"linecolor\":\"white\",\"minorgridcolor\":\"white\",\"startlinecolor\":\"rgb(36,36,36)\"},\"type\":\"carpet\"}],\"choropleth\":[{\"colorbar\":{\"outlinewidth\":1,\"tickcolor\":\"rgb(36,36,36)\",\"ticks\":\"outside\"},\"type\":\"choropleth\"}],\"contourcarpet\":[{\"colorbar\":{\"outlinewidth\":1,\"tickcolor\":\"rgb(36,36,36)\",\"ticks\":\"outside\"},\"type\":\"contourcarpet\"}],\"contour\":[{\"colorbar\":{\"outlinewidth\":1,\"tickcolor\":\"rgb(36,36,36)\",\"ticks\":\"outside\"},\"colorscale\":[[0.0,\"#440154\"],[0.1111111111111111,\"#482878\"],[0.2222222222222222,\"#3e4989\"],[0.3333333333333333,\"#31688e\"],[0.4444444444444444,\"#26828e\"],[0.5555555555555556,\"#1f9e89\"],[0.6666666666666666,\"#35b779\"],[0.7777777777777778,\"#6ece58\"],[0.8888888888888888,\"#b5de2b\"],[1.0,\"#fde725\"]],\"type\":\"contour\"}],\"heatmapgl\":[{\"colorbar\":{\"outlinewidth\":1,\"tickcolor\":\"rgb(36,36,36)\",\"ticks\":\"outside\"},\"colorscale\":[[0.0,\"#440154\"],[0.1111111111111111,\"#482878\"],[0.2222222222222222,\"#3e4989\"],[0.3333333333333333,\"#31688e\"],[0.4444444444444444,\"#26828e\"],[0.5555555555555556,\"#1f9e89\"],[0.6666666666666666,\"#35b779\"],[0.7777777777777778,\"#6ece58\"],[0.8888888888888888,\"#b5de2b\"],[1.0,\"#fde725\"]],\"type\":\"heatmapgl\"}],\"heatmap\":[{\"colorbar\":{\"outlinewidth\":1,\"tickcolor\":\"rgb(36,36,36)\",\"ticks\":\"outside\"},\"colorscale\":[[0.0,\"#440154\"],[0.1111111111111111,\"#482878\"],[0.2222222222222222,\"#3e4989\"],[0.3333333333333333,\"#31688e\"],[0.4444444444444444,\"#26828e\"],[0.5555555555555556,\"#1f9e89\"],[0.6666666666666666,\"#35b779\"],[0.7777777777777778,\"#6ece58\"],[0.8888888888888888,\"#b5de2b\"],[1.0,\"#fde725\"]],\"type\":\"heatmap\"}],\"histogram2dcontour\":[{\"colorbar\":{\"outlinewidth\":1,\"tickcolor\":\"rgb(36,36,36)\",\"ticks\":\"outside\"},\"colorscale\":[[0.0,\"#440154\"],[0.1111111111111111,\"#482878\"],[0.2222222222222222,\"#3e4989\"],[0.3333333333333333,\"#31688e\"],[0.4444444444444444,\"#26828e\"],[0.5555555555555556,\"#1f9e89\"],[0.6666666666666666,\"#35b779\"],[0.7777777777777778,\"#6ece58\"],[0.8888888888888888,\"#b5de2b\"],[1.0,\"#fde725\"]],\"type\":\"histogram2dcontour\"}],\"histogram2d\":[{\"colorbar\":{\"outlinewidth\":1,\"tickcolor\":\"rgb(36,36,36)\",\"ticks\":\"outside\"},\"colorscale\":[[0.0,\"#440154\"],[0.1111111111111111,\"#482878\"],[0.2222222222222222,\"#3e4989\"],[0.3333333333333333,\"#31688e\"],[0.4444444444444444,\"#26828e\"],[0.5555555555555556,\"#1f9e89\"],[0.6666666666666666,\"#35b779\"],[0.7777777777777778,\"#6ece58\"],[0.8888888888888888,\"#b5de2b\"],[1.0,\"#fde725\"]],\"type\":\"histogram2d\"}],\"histogram\":[{\"marker\":{\"line\":{\"color\":\"white\",\"width\":0.6}},\"type\":\"histogram\"}],\"mesh3d\":[{\"colorbar\":{\"outlinewidth\":1,\"tickcolor\":\"rgb(36,36,36)\",\"ticks\":\"outside\"},\"type\":\"mesh3d\"}],\"parcoords\":[{\"line\":{\"colorbar\":{\"outlinewidth\":1,\"tickcolor\":\"rgb(36,36,36)\",\"ticks\":\"outside\"}},\"type\":\"parcoords\"}],\"pie\":[{\"automargin\":true,\"type\":\"pie\"}],\"scatter3d\":[{\"line\":{\"colorbar\":{\"outlinewidth\":1,\"tickcolor\":\"rgb(36,36,36)\",\"ticks\":\"outside\"}},\"marker\":{\"colorbar\":{\"outlinewidth\":1,\"tickcolor\":\"rgb(36,36,36)\",\"ticks\":\"outside\"}},\"type\":\"scatter3d\"}],\"scattercarpet\":[{\"marker\":{\"colorbar\":{\"outlinewidth\":1,\"tickcolor\":\"rgb(36,36,36)\",\"ticks\":\"outside\"}},\"type\":\"scattercarpet\"}],\"scattergeo\":[{\"marker\":{\"colorbar\":{\"outlinewidth\":1,\"tickcolor\":\"rgb(36,36,36)\",\"ticks\":\"outside\"}},\"type\":\"scattergeo\"}],\"scattergl\":[{\"marker\":{\"colorbar\":{\"outlinewidth\":1,\"tickcolor\":\"rgb(36,36,36)\",\"ticks\":\"outside\"}},\"type\":\"scattergl\"}],\"scattermapbox\":[{\"marker\":{\"colorbar\":{\"outlinewidth\":1,\"tickcolor\":\"rgb(36,36,36)\",\"ticks\":\"outside\"}},\"type\":\"scattermapbox\"}],\"scatterpolargl\":[{\"marker\":{\"colorbar\":{\"outlinewidth\":1,\"tickcolor\":\"rgb(36,36,36)\",\"ticks\":\"outside\"}},\"type\":\"scatterpolargl\"}],\"scatterpolar\":[{\"marker\":{\"colorbar\":{\"outlinewidth\":1,\"tickcolor\":\"rgb(36,36,36)\",\"ticks\":\"outside\"}},\"type\":\"scatterpolar\"}],\"scatter\":[{\"marker\":{\"colorbar\":{\"outlinewidth\":1,\"tickcolor\":\"rgb(36,36,36)\",\"ticks\":\"outside\"}},\"type\":\"scatter\"}],\"scatterternary\":[{\"marker\":{\"colorbar\":{\"outlinewidth\":1,\"tickcolor\":\"rgb(36,36,36)\",\"ticks\":\"outside\"}},\"type\":\"scatterternary\"}],\"surface\":[{\"colorbar\":{\"outlinewidth\":1,\"tickcolor\":\"rgb(36,36,36)\",\"ticks\":\"outside\"},\"colorscale\":[[0.0,\"#440154\"],[0.1111111111111111,\"#482878\"],[0.2222222222222222,\"#3e4989\"],[0.3333333333333333,\"#31688e\"],[0.4444444444444444,\"#26828e\"],[0.5555555555555556,\"#1f9e89\"],[0.6666666666666666,\"#35b779\"],[0.7777777777777778,\"#6ece58\"],[0.8888888888888888,\"#b5de2b\"],[1.0,\"#fde725\"]],\"type\":\"surface\"}],\"table\":[{\"cells\":{\"fill\":{\"color\":\"rgb(237,237,237)\"},\"line\":{\"color\":\"white\"}},\"header\":{\"fill\":{\"color\":\"rgb(217,217,217)\"},\"line\":{\"color\":\"white\"}},\"type\":\"table\"}]},\"layout\":{\"annotationdefaults\":{\"arrowhead\":0,\"arrowwidth\":1},\"autotypenumbers\":\"strict\",\"coloraxis\":{\"colorbar\":{\"outlinewidth\":1,\"tickcolor\":\"rgb(36,36,36)\",\"ticks\":\"outside\"}},\"colorscale\":{\"diverging\":[[0.0,\"rgb(103,0,31)\"],[0.1,\"rgb(178,24,43)\"],[0.2,\"rgb(214,96,77)\"],[0.3,\"rgb(244,165,130)\"],[0.4,\"rgb(253,219,199)\"],[0.5,\"rgb(247,247,247)\"],[0.6,\"rgb(209,229,240)\"],[0.7,\"rgb(146,197,222)\"],[0.8,\"rgb(67,147,195)\"],[0.9,\"rgb(33,102,172)\"],[1.0,\"rgb(5,48,97)\"]],\"sequential\":[[0.0,\"#440154\"],[0.1111111111111111,\"#482878\"],[0.2222222222222222,\"#3e4989\"],[0.3333333333333333,\"#31688e\"],[0.4444444444444444,\"#26828e\"],[0.5555555555555556,\"#1f9e89\"],[0.6666666666666666,\"#35b779\"],[0.7777777777777778,\"#6ece58\"],[0.8888888888888888,\"#b5de2b\"],[1.0,\"#fde725\"]],\"sequentialminus\":[[0.0,\"#440154\"],[0.1111111111111111,\"#482878\"],[0.2222222222222222,\"#3e4989\"],[0.3333333333333333,\"#31688e\"],[0.4444444444444444,\"#26828e\"],[0.5555555555555556,\"#1f9e89\"],[0.6666666666666666,\"#35b779\"],[0.7777777777777778,\"#6ece58\"],[0.8888888888888888,\"#b5de2b\"],[1.0,\"#fde725\"]]},\"colorway\":[\"#1F77B4\",\"#FF7F0E\",\"#2CA02C\",\"#D62728\",\"#9467BD\",\"#8C564B\",\"#E377C2\",\"#7F7F7F\",\"#BCBD22\",\"#17BECF\"],\"font\":{\"color\":\"rgb(36,36,36)\"},\"geo\":{\"bgcolor\":\"white\",\"lakecolor\":\"white\",\"landcolor\":\"white\",\"showlakes\":true,\"showland\":true,\"subunitcolor\":\"white\"},\"hoverlabel\":{\"align\":\"left\"},\"hovermode\":\"closest\",\"mapbox\":{\"style\":\"light\"},\"paper_bgcolor\":\"white\",\"plot_bgcolor\":\"white\",\"polar\":{\"angularaxis\":{\"gridcolor\":\"rgb(232,232,232)\",\"linecolor\":\"rgb(36,36,36)\",\"showgrid\":false,\"showline\":true,\"ticks\":\"outside\"},\"bgcolor\":\"white\",\"radialaxis\":{\"gridcolor\":\"rgb(232,232,232)\",\"linecolor\":\"rgb(36,36,36)\",\"showgrid\":false,\"showline\":true,\"ticks\":\"outside\"}},\"scene\":{\"xaxis\":{\"backgroundcolor\":\"white\",\"gridcolor\":\"rgb(232,232,232)\",\"gridwidth\":2,\"linecolor\":\"rgb(36,36,36)\",\"showbackground\":true,\"showgrid\":false,\"showline\":true,\"ticks\":\"outside\",\"zeroline\":false,\"zerolinecolor\":\"rgb(36,36,36)\"},\"yaxis\":{\"backgroundcolor\":\"white\",\"gridcolor\":\"rgb(232,232,232)\",\"gridwidth\":2,\"linecolor\":\"rgb(36,36,36)\",\"showbackground\":true,\"showgrid\":false,\"showline\":true,\"ticks\":\"outside\",\"zeroline\":false,\"zerolinecolor\":\"rgb(36,36,36)\"},\"zaxis\":{\"backgroundcolor\":\"white\",\"gridcolor\":\"rgb(232,232,232)\",\"gridwidth\":2,\"linecolor\":\"rgb(36,36,36)\",\"showbackground\":true,\"showgrid\":false,\"showline\":true,\"ticks\":\"outside\",\"zeroline\":false,\"zerolinecolor\":\"rgb(36,36,36)\"}},\"shapedefaults\":{\"fillcolor\":\"black\",\"line\":{\"width\":0},\"opacity\":0.3},\"ternary\":{\"aaxis\":{\"gridcolor\":\"rgb(232,232,232)\",\"linecolor\":\"rgb(36,36,36)\",\"showgrid\":false,\"showline\":true,\"ticks\":\"outside\"},\"baxis\":{\"gridcolor\":\"rgb(232,232,232)\",\"linecolor\":\"rgb(36,36,36)\",\"showgrid\":false,\"showline\":true,\"ticks\":\"outside\"},\"bgcolor\":\"white\",\"caxis\":{\"gridcolor\":\"rgb(232,232,232)\",\"linecolor\":\"rgb(36,36,36)\",\"showgrid\":false,\"showline\":true,\"ticks\":\"outside\"}},\"title\":{\"x\":0.05},\"xaxis\":{\"automargin\":true,\"gridcolor\":\"rgb(232,232,232)\",\"linecolor\":\"rgb(36,36,36)\",\"showgrid\":false,\"showline\":true,\"ticks\":\"outside\",\"title\":{\"standoff\":15},\"zeroline\":false,\"zerolinecolor\":\"rgb(36,36,36)\"},\"yaxis\":{\"automargin\":true,\"gridcolor\":\"rgb(232,232,232)\",\"linecolor\":\"rgb(36,36,36)\",\"showgrid\":false,\"showline\":true,\"ticks\":\"outside\",\"title\":{\"standoff\":15},\"zeroline\":false,\"zerolinecolor\":\"rgb(36,36,36)\"}}},\"xaxis\":{\"anchor\":\"y\",\"domain\":[0.0,1.0],\"title\":{\"text\":\"\"},\"tickangle\":-90},\"yaxis\":{\"anchor\":\"x\",\"domain\":[0.0,1.0],\"title\":{\"text\":\"% da \\u00e1rea do pol\\u00edgono\"}},\"legend\":{\"title\":{\"text\":\"\"},\"tracegroupgap\":0},\"title\":{\"text\":\"Hist\\u00f3rico de Uso e Cobertura do Solo (2969.80 ha)\"},\"barmode\":\"stack\",\"annotations\":[{\"align\":\"left\",\"font\":{\"color\":\"grey\",\"size\":10},\"showarrow\":false,\"text\":\"Fonte dos dados: Projeto MapBiomas \\u2013 Cole\\u00e7\\u00e3o 6 da S\\u00e9rie Anual de Mapas de Uso e Cobertura da Terra do Brasil, acesso em 20/07/2022.\",\"x\":0,\"xanchor\":\"left\",\"xref\":\"paper\",\"xshift\":-1,\"y\":-0.2,\"yanchor\":\"bottom\",\"yref\":\"paper\",\"yshift\":-5}]},                        {\"responsive\": true}                    ).then(function(){\n",
              "                            \n",
              "var gd = document.getElementById('df71874f-c080-47f3-be5f-08a5d4dd61f4');\n",
              "var x = new MutationObserver(function (mutations, observer) {{\n",
              "        var display = window.getComputedStyle(gd).display;\n",
              "        if (!display || display === 'none') {{\n",
              "            console.log([gd, 'removed!']);\n",
              "            Plotly.purge(gd);\n",
              "            observer.disconnect();\n",
              "        }}\n",
              "}});\n",
              "\n",
              "// Listen for the removal of the full notebook cells\n",
              "var notebookContainer = gd.closest('#notebook-container');\n",
              "if (notebookContainer) {{\n",
              "    x.observe(notebookContainer, {childList: true});\n",
              "}}\n",
              "\n",
              "// Listen for the clearing of the current output cell\n",
              "var outputEl = gd.closest('.output');\n",
              "if (outputEl) {{\n",
              "    x.observe(outputEl, {childList: true});\n",
              "}}\n",
              "\n",
              "                        })                };                            </script>        </div>\n",
              "</body>\n",
              "</html>"
            ]
          },
          "metadata": {},
          "output_type": "display_data"
        }
      ],
      "source": [
        "fig = px.bar(df_perc, barmode='stack', \n",
        "             color_discrete_map=color_map, \n",
        "             labels={\"value\": \"% da área do polígono\", \"variable\": \"\", \"year\": \"\"},\n",
        "             title=f\"Histórico de Uso e Cobertura do Solo ({area_ha:.2f} ha)\")\n",
        "\n",
        "fig.update_layout(template='simple_white')\n",
        "fig.update_xaxes(tickangle=-90)\n",
        "fig.add_annotation(\n",
        "    text = f\"Fonte dos dados: Projeto MapBiomas – Coleção 6 da Série Anual de Mapas de Uso e Cobertura da Terra do Brasil, acesso em {hoje}.\",\n",
        "    showarrow=False,\n",
        "    x = 0,\n",
        "    y = -0.2,\n",
        "    xref='paper',\n",
        "    yref='paper',\n",
        "    xanchor='left',\n",
        "    yanchor='bottom',\n",
        "    xshift=-1,\n",
        "    yshift=-5,\n",
        "    font=dict(size=10, color=\"grey\"),\n",
        "    align=\"left\")\n",
        "fig.show()"
      ]
    }
  ],
  "metadata": {
    "colab": {
      "include_colab_link": true,
      "name": "hist_mapbiomas_arquivo.ipynb",
      "provenance": []
    },
    "kernelspec": {
      "display_name": "Python 3.9.13 ('ee')",
      "language": "python",
      "name": "python3"
    },
    "language_info": {
      "codemirror_mode": {
        "name": "ipython",
        "version": 3
      },
      "file_extension": ".py",
      "mimetype": "text/x-python",
      "name": "python",
      "nbconvert_exporter": "python",
      "pygments_lexer": "ipython3",
      "version": "3.9.13"
    },
    "orig_nbformat": 4,
    "vscode": {
      "interpreter": {
        "hash": "e1a86094d81d30a0eacc88bbd81a329fe051c66de06145963c4e8ee5406ee097"
      }
    }
  },
  "nbformat": 4,
  "nbformat_minor": 0
}
