{
  "cells": [
    {
      "cell_type": "markdown",
      "metadata": {
        "colab_type": "text",
        "id": "view-in-github"
      },
      "source": [
        "<a href=\"https://colab.research.google.com/github/sandroklippel/misc_noteboooks/blob/main/Historico_Mapbiomas_de_um_embargo_Ibama.ipynb\" target=\"_parent\"><img src=\"https://colab.research.google.com/assets/colab-badge.svg\" alt=\"Open In Colab\"/></a>"
      ]
    },
    {
      "cell_type": "markdown",
      "metadata": {
        "id": "zxN4fxu7KYms"
      },
      "source": [
        "### Histórico de Uso e Cobertura do Solo de um polígono embargado pelo Ibama segundo Mapbiomas"
      ]
    },
    {
      "cell_type": "markdown",
      "metadata": {
        "id": "d4YM1jYBLKyk"
      },
      "source": [
        "Instruções:\n",
        "\n",
        "1.   Atribua o número do Termo de Embargo na variável `numero_tad` abaixo (exemplo `numero_tad='734356'`). O polígono do embargo será obtido diretamente do servidor WFS do Ibama.\n",
        "2.   Atribua o nome do projeto registrado no Google Earth Engine na variável `PROJECT`. Você encontra o nome do projeto em code.earthengine.google.com como no exemplo abaixo: \n",
        "![image.png](image.png)\n",
        "3. Selecione no menu \"Ambiente de execução\" -> \"Executar tudo\" ou pressione Ctrl+F9\n",
        "4. O gráfico será gerado na última célula. Há opção para salvá-lo em .PNG.\n",
        "\n"
      ]
    },
    {
      "cell_type": "code",
      "execution_count": null,
      "metadata": {
        "id": "lyAzMTOTNSEL"
      },
      "outputs": [],
      "source": [
        "numero_tad='734356'\n",
        "PROJECT=''"
      ]
    },
    {
      "cell_type": "code",
      "execution_count": null,
      "metadata": {},
      "outputs": [],
      "source": [
        "from google.colab import auth\n",
        "auth.authenticate_user()"
      ]
    },
    {
      "cell_type": "code",
      "execution_count": null,
      "metadata": {
        "colab": {
          "base_uri": "https://localhost:8080/"
        },
        "id": "w-a_H25fNcka",
        "outputId": "3267b034-78a0-4c5a-9a70-28edf3ccf0d3"
      },
      "outputs": [],
      "source": [
        "import ee\n",
        "try:\n",
        "  ee.Initialize(project=PROJECT)\n",
        "except ee.ee_exception.EEException:\n",
        "  ee.Authenticate()\n",
        "  ee.Initialize(project=PROJECT)"
      ]
    },
    {
      "cell_type": "code",
      "execution_count": null,
      "metadata": {
        "id": "ZQnSKMrO8DyJ"
      },
      "outputs": [],
      "source": [
        "import datetime\n",
        "import requests\n",
        "import pandas as pd\n",
        "import numpy as np\n",
        "import plotly.express as px\n",
        "\n",
        "from shapely.geometry import shape\n",
        "\n",
        "def busca_embargo(numero_tad):\n",
        "    \"\"\"\n",
        "    Busca o poligono do embargo no servidor WFS do Ibama\n",
        "    \"\"\"\n",
        "\n",
        "    endpoint = 'http://siscom.ibama.gov.br/geoserver/wfs'\n",
        "\n",
        "    filter = f'''\n",
        "    <Filter>\n",
        "     <PropertyIsEqualTo>\n",
        "    \t<PropertyName>numero_tad</PropertyName>\n",
        "    \t\t<Literal>{numero_tad}</Literal>\n",
        "     </PropertyIsEqualTo>\n",
        "    </Filter>'''\n",
        "    \n",
        "    query = {'service': 'WFS',\n",
        "             'version': '1.0.0',\n",
        "             'request': 'GetFeature',\n",
        "             'typeName': 'publica:vw_brasil_adm_embargo_a',\n",
        "             'FILTER': filter,\n",
        "             'srsname': 'EPSG:4326',\n",
        "             'outputFormat': 'application/json'}\n",
        "\n",
        "    response = requests.get(endpoint, params=query)\n",
        "    if response.status_code == 200:\n",
        "      return response.json()\n",
        "    else:\n",
        "      raise Exception(\"Falha na obtenção do embargo. Código retornado: {}.\".format(response.status_code))\n",
        "\n",
        "def map_function(s):\n",
        "  def mbyr(y):\n",
        "      k = ee.String('classification_').cat(ee.String(y))\n",
        "      d = ee.Dictionary(s.get(k))\n",
        "      return d.set('year', y)\n",
        "  return mbyr\n",
        "\n",
        "classes = {1: 'Floresta',\n",
        "           3: 'Formação Florestal',\n",
        "           4: 'Formação Savânica',\n",
        "           5: 'Mangue',\n",
        "           6: 'Floresta Alagável (beta)',\n",
        "           49: 'Restinga Arbórea',\n",
        "           10: 'Formação Natural não Florestal',\n",
        "           11: 'Campo Alagado e Área Pantanosa',\n",
        "           12: 'Formação Campestre',\n",
        "           32: 'Apicum',\n",
        "           29: 'Afloramento Rochoso',\n",
        "           50: 'Restinga Herbácea',\n",
        "           13: 'Outras Formações não Florestais',\n",
        "           14: 'Agropecuária',\n",
        "           15: 'Pastagem',\n",
        "           18: 'Agricultura',\n",
        "           19: 'Lavoura Temporária',\n",
        "           39: 'Soja',\n",
        "           20: 'Cana',\n",
        "           40: 'Arroz',\n",
        "           62: 'Algodão (beta)',\n",
        "           41: 'Outras Lavouras Temporárias',\n",
        "           36: 'Lavoura Perene',\n",
        "           46: 'Café',\n",
        "           47: 'Citrus',\n",
        "           35: 'Dendê (beta)',\n",
        "           48: 'Outras Lavouras Perenes',\n",
        "           9: 'Silvicultura',\n",
        "           21: 'Mosaico de Usos',\n",
        "           22: 'Área não Vegetada',\n",
        "           23: 'Praia, Duna e Areal',\n",
        "           24: 'Área Urbanizada',\n",
        "           30: 'Mineração',\n",
        "           25: 'Outras Áreas não Vegetadas',\n",
        "           26: \"Corpo D'água\",\n",
        "           33: 'Rio, Lago e Oceano',\n",
        "           31: 'Aquicultura',\n",
        "           27: 'Não observado'}\n",
        "\n",
        "cores = {1: '#32a65e',\n",
        "         3: '#1f8d49',\n",
        "         4: '#7dc975',\n",
        "         5: '#04381d',\n",
        "         6: '#026975',\n",
        "         49: '#02d659',\n",
        "         10: '#ad975a',\n",
        "         11: '#519799',\n",
        "         12: '#d6bc74',\n",
        "         32: '#fc8114',\n",
        "         29: '#ffaa5f',\n",
        "         50: '#ad5100',\n",
        "         13: '#d89f5c',\n",
        "         14: '#FFFFB2',\n",
        "         15: '#edde8e',\n",
        "         18: '#E974ED',\n",
        "         19: '#C27BA0',\n",
        "         39: '#f5b3c8',\n",
        "         20: '#db7093',\n",
        "         40: '#c71585',\n",
        "         62: '#ff69b4',\n",
        "         41: '#f54ca9',\n",
        "         36: '#d082de',\n",
        "         46: '#d68fe2',\n",
        "         47: '#9932cc',\n",
        "         35: '#9065d0',\n",
        "         48: '#e6ccff',\n",
        "         9: '#7a5900',\n",
        "         21: '#ffefc3',\n",
        "         22: '#d4271e',\n",
        "         23: '#ffa07a',\n",
        "         24: '#d4271e',\n",
        "         30: '#9c0027',\n",
        "         25: '#db4d4f',\n",
        "         26: '#0000FF',\n",
        "         33: '#2532e4',\n",
        "         31: '#091077',\n",
        "         27: '#ffffff'}\n",
        "\n",
        "color_map = {classes[k]: v for k, v in cores.items()}\n",
        "\n",
        "feature = busca_embargo(numero_tad)\n",
        "\n",
        "hoje = datetime.datetime.today().strftime('%d/%m/%Y')\n",
        "serie_tad = feature['features'][0]['properties']['serie_tad']\n",
        "tad = numero_tad if serie_tad is None else numero_tad + '-' + serie_tad\n",
        "geom = ee.FeatureCollection(feature).geometry()\n",
        "area_ha = geom.area().getInfo() / 10000.0\n",
        "\n",
        "mapbiomas = ee.Image('projects/mapbiomas-workspace/public/collection8/mapbiomas_collection80_integration_v1')\n",
        "\n",
        "stats = (mapbiomas.reduceRegion(\n",
        "         reducer = ee.Reducer.frequencyHistogram(),\n",
        "        geometry = geom,\n",
        "        scale = 30,\n",
        "        crs = 'EPSG:4326'\n",
        "        ))\n",
        "\n",
        "years = ee.List([str(i) for i in range(1985,2023)])\n",
        "\n",
        "map_by_year = map_function(stats)\n",
        "\n",
        "lst = years.map(map_by_year)\n",
        "\n",
        "df = pd.DataFrame(lst.getInfo())\n",
        "df.set_index('year', inplace=True)\n",
        "df_perc = df.div(df.iloc[0,:].sum(), axis=1).mul(100).round(2)\n",
        "df_perc.columns = [classes[int(c)] for c in df_perc.columns.tolist()]"
      ]
    },
    {
      "cell_type": "code",
      "execution_count": null,
      "metadata": {
        "colab": {
          "base_uri": "https://localhost:8080/",
          "height": 542
        },
        "id": "BV7brI8TECQa",
        "outputId": "13d9ba35-5457-4590-81d1-5cc0f8e1f03f"
      },
      "outputs": [],
      "source": [
        "fig = px.bar(df_perc, barmode='stack', \n",
        "             color_discrete_map=color_map, \n",
        "             labels={\"value\": \"% da área do polígono\", \"variable\": \"\", \"year\": \"\"},\n",
        "             title=f\"Termo de Embargo {tad} ({area_ha:.2f} ha) - Histórico de Uso e Cobertura do Solo\")\n",
        "\n",
        "fig.update_layout(template='simple_white')\n",
        "fig.update_xaxes(tickangle=-90)\n",
        "fig.add_annotation(\n",
        "    text = f\"Fonte dos dados: Projeto MapBiomas – Coleção 8 da Série Anual de Mapas de Uso e Cobertura da Terra do Brasil, acesso em {hoje}.\",\n",
        "    showarrow=False,\n",
        "    x = 0,\n",
        "    y = -0.2,\n",
        "    xref='paper',\n",
        "    yref='paper',\n",
        "    xanchor='left',\n",
        "    yanchor='bottom',\n",
        "    xshift=-1,\n",
        "    yshift=-5,\n",
        "    font=dict(size=10, color=\"grey\"),\n",
        "    align=\"left\")\n",
        "fig.show()"
      ]
    },
    {
      "cell_type": "markdown",
      "metadata": {},
      "source": [
        "### Polígono para simples conferência:"
      ]
    },
    {
      "cell_type": "code",
      "execution_count": null,
      "metadata": {},
      "outputs": [],
      "source": [
        "shape(geom.getInfo())"
      ]
    }
  ],
  "metadata": {
    "colab": {
      "include_colab_link": true,
      "name": "hist_mapbiomas_embargo.ipynb",
      "provenance": []
    },
    "kernelspec": {
      "display_name": "Python 3.7.11",
      "language": "python",
      "name": "python3"
    },
    "language_info": {
      "codemirror_mode": {
        "name": "ipython",
        "version": 3
      },
      "file_extension": ".py",
      "mimetype": "text/x-python",
      "name": "python",
      "nbconvert_exporter": "python",
      "pygments_lexer": "ipython3",
      "version": "3.7.11"
    },
    "orig_nbformat": 4,
    "vscode": {
      "interpreter": {
        "hash": "9751ede4682a6f81ec793796a675616cec13ceb4dbb1caf1381902bbd38f910d"
      }
    }
  },
  "nbformat": 4,
  "nbformat_minor": 0
}
